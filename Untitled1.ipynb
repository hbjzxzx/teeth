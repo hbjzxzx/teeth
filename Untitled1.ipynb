{
 "cells": [
  {
   "cell_type": "code",
   "execution_count": 1,
   "metadata": {},
   "outputs": [],
   "source": [
    "import numpy as np\n",
    "import matplotlib\n",
    "import numpy.ma as ma\n",
    "import vtk\n",
    "from sklearn.cluster import KMeans\n",
    "from sklearn.mixture import GaussianMixture\n",
    "from preprocess import dcm2npMatrix, histeq, max_min_normal, make_dcm_data_set\n",
    "import matplotlib.pyplot as plt\n",
    "import cv2\n",
    "import skimage.filters as filters\n",
    "import math\n",
    "import gbseg\n",
    "import imp\n",
    "\n",
    "from matplotlib.pyplot import imread\n",
    "import matplotlib.pyplot as plt\n",
    "from mpl_toolkits.mplot3d import Axes3D\n",
    "import scipy.ndimage.filters as filters\n",
    "from skimage import measure\n",
    "import lv_set.drlse_algo as drlse\n",
    "import numpy as np"
   ]
  },
  {
   "cell_type": "code",
   "execution_count": 2,
   "metadata": {},
   "outputs": [
    {
     "name": "stdout",
     "output_type": "stream",
     "text": [
      "Using matplotlib backend: Qt5Agg\n"
     ]
    }
   ],
   "source": [
    "%matplotlib"
   ]
  },
  {
   "cell_type": "code",
   "execution_count": 9,
   "metadata": {},
   "outputs": [],
   "source": [
    "dcmPath = \"./dcms/test/00000322.dcm\"\n",
    "img = dcm2npMatrix(dcmPath)"
   ]
  },
  {
   "cell_type": "code",
   "execution_count": 10,
   "metadata": {},
   "outputs": [
    {
     "data": {
      "text/plain": [
       "(503, 438)"
      ]
     },
     "execution_count": 10,
     "metadata": {},
     "output_type": "execute_result"
    }
   ],
   "source": [
    "img.shape"
   ]
  },
  {
   "cell_type": "code",
   "execution_count": 13,
   "metadata": {},
   "outputs": [
    {
     "name": "stdout",
     "output_type": "stream",
     "text": [
      "using_max_min normal\n"
     ]
    },
    {
     "data": {
      "text/plain": [
       "<matplotlib.image.AxesImage at 0x7fc177187390>"
      ]
     },
     "execution_count": 13,
     "metadata": {},
     "output_type": "execute_result"
    }
   ],
   "source": [
    "normalX = np.uint8((max_min_normal(img)))\n",
    "plt.figure(\"raw\")\n",
    "plt.imshow(normalX,cmap='gray')\n",
    "tmp = cv2.GaussianBlur(normalX,(5,5),0).astype('uint8')\n",
    "tmp = cv2.medianBlur(tmp, 5)\n",
    "img = tmp\n",
    "plt.figure(\"filter\")\n",
    "plt.imshow(img,cmap='gray')"
   ]
  },
  {
   "cell_type": "code",
   "execution_count": 167,
   "metadata": {},
   "outputs": [
    {
     "data": {
      "text/plain": [
       "<matplotlib.image.AxesImage at 0x7fc15fb55470>"
      ]
     },
     "execution_count": 167,
     "metadata": {},
     "output_type": "execute_result"
    }
   ],
   "source": [
    "plt.imshow(img>200,cmap='gray')"
   ]
  },
  {
   "cell_type": "code",
   "execution_count": 25,
   "metadata": {},
   "outputs": [
    {
     "data": {
      "text/plain": [
       "<matplotlib.image.AxesImage at 0x7fc177658630>"
      ]
     },
     "execution_count": 25,
     "metadata": {},
     "output_type": "execute_result"
    }
   ],
   "source": [
    "plt.imshow(normalX>200,cmap='gray')\n",
    "msk = (normalX>200).astype(np.uint8)\n",
    "erodeKernel = np.ones((3,3), np.uint8)\n",
    "erodeImg = cv2.erode(msk, erodeKernel, iterations=1)\n",
    "plt.imshow( erodeImg, cmap='gray')\n"
   ]
  },
  {
   "cell_type": "code",
   "execution_count": 26,
   "metadata": {},
   "outputs": [],
   "source": [
    "retval, labels = cv2.connectedComponents(msk)"
   ]
  },
  {
   "cell_type": "code",
   "execution_count": 28,
   "metadata": {},
   "outputs": [
    {
     "data": {
      "text/plain": [
       "44"
      ]
     },
     "execution_count": 28,
     "metadata": {},
     "output_type": "execute_result"
    }
   ],
   "source": [
    "retval"
   ]
  },
  {
   "cell_type": "code",
   "execution_count": 29,
   "metadata": {},
   "outputs": [
    {
     "data": {
      "text/plain": [
       "<matplotlib.image.AxesImage at 0x7fc176fa2eb8>"
      ]
     },
     "execution_count": 29,
     "metadata": {},
     "output_type": "execute_result"
    }
   ],
   "source": [
    "plt.imshow(labels)"
   ]
  },
  {
   "cell_type": "code",
   "execution_count": 37,
   "metadata": {},
   "outputs": [],
   "source": [
    "x, y = np.where(labels==1)"
   ]
  },
  {
   "cell_type": "code",
   "execution_count": 98,
   "metadata": {},
   "outputs": [],
   "source": [
    "def filterArea(msk, down, up, emax):\n",
    "    tmpmsk = msk.copy()\n",
    "    retval, labels = cv2.connectedComponents(msk)\n",
    "    for l in range(retval):\n",
    "        x, y = np.where(labels == l)\n",
    "        if x.shape[0] < down or x.shape[0]>up:\n",
    "            tmpmsk[x, y] = 0\n",
    "        else:\n",
    "            xlen = np.max(x) - np.min(x)\n",
    "            ylen = np.max(y) - np.min(y)\n",
    "            e = xlen/ylen\n",
    "            e = e if e > 1 else 1/e\n",
    "            if e > emax:\n",
    "                tmpmsk[x, y] = 0\n",
    "            else:\n",
    "                tmpmsk[x,y] = 1\n",
    "    return tmpmsk"
   ]
  },
  {
   "cell_type": "code",
   "execution_count": 99,
   "metadata": {},
   "outputs": [],
   "source": [
    "filtermsk = filterArea(msk, 100, 2500, 1.8)"
   ]
  },
  {
   "cell_type": "code",
   "execution_count": 100,
   "metadata": {},
   "outputs": [
    {
     "data": {
      "text/plain": [
       "<matplotlib.image.AxesImage at 0x7fc16412ddd8>"
      ]
     },
     "execution_count": 100,
     "metadata": {},
     "output_type": "execute_result"
    }
   ],
   "source": [
    "erodeKernel = np.ones((3,3), np.uint8)\n",
    "dilate = cv2.dilate(filtermsk, erodeKernel, iterations=2)\n",
    "erodeImg = cv2.erode(dilate, erodeKernel, iterations=4)\n",
    "plt.imshow( erodeImg, cmap='gray')"
   ]
  },
  {
   "cell_type": "code",
   "execution_count": 113,
   "metadata": {},
   "outputs": [],
   "source": [
    "init =  erodeImg.copy()\n",
    "init = init.astype(np.int)\n",
    "init[np.where(init==1)] = -2\n",
    "init[np.where(init==0)] = 2"
   ]
  },
  {
   "cell_type": "code",
   "execution_count": 111,
   "metadata": {},
   "outputs": [],
   "source": []
  },
  {
   "cell_type": "code",
   "execution_count": null,
   "metadata": {},
   "outputs": [],
   "source": []
  },
  {
   "cell_type": "code",
   "execution_count": 115,
   "metadata": {},
   "outputs": [
    {
     "data": {
      "text/plain": [
       "-2"
      ]
     },
     "execution_count": 115,
     "metadata": {},
     "output_type": "execute_result"
    }
   ],
   "source": [
    "np.min(init)"
   ]
  },
  {
   "cell_type": "code",
   "execution_count": 103,
   "metadata": {},
   "outputs": [
    {
     "data": {
      "text/plain": [
       "1"
      ]
     },
     "execution_count": 103,
     "metadata": {},
     "output_type": "execute_result"
    }
   ],
   "source": [
    "np.max(erodeImg)"
   ]
  },
  {
   "cell_type": "code",
   "execution_count": 55,
   "metadata": {},
   "outputs": [
    {
     "data": {
      "text/plain": [
       "<matplotlib.image.AxesImage at 0x7fc1753beeb8>"
      ]
     },
     "execution_count": 55,
     "metadata": {},
     "output_type": "execute_result"
    }
   ],
   "source": [
    "plt.imshow(filtermsk)"
   ]
  },
  {
   "cell_type": "code",
   "execution_count": 96,
   "metadata": {},
   "outputs": [
    {
     "data": {
      "text/plain": [
       "<matplotlib.image.AxesImage at 0x7f9d4048c208>"
      ]
     },
     "execution_count": 96,
     "metadata": {},
     "output_type": "execute_result"
    }
   ],
   "source": [
    "gray_lap = cv2.Laplacian(img,cv2.CV_16S,ksize = 3)\n",
    "plt.imshow( img + gray_lap, cmap='gray')"
   ]
  },
  {
   "cell_type": "code",
   "execution_count": 97,
   "metadata": {},
   "outputs": [
    {
     "name": "stdout",
     "output_type": "stream",
     "text": [
      "using_max_min normal\n"
     ]
    },
    {
     "data": {
      "text/plain": [
       "<matplotlib.image.AxesImage at 0x7f9d39666dd8>"
      ]
     },
     "execution_count": 97,
     "metadata": {},
     "output_type": "execute_result"
    }
   ],
   "source": [
    "plt.imshow(max_min_normal(gray_lap),cmap='gray')"
   ]
  },
  {
   "cell_type": "code",
   "execution_count": 120,
   "metadata": {},
   "outputs": [],
   "source": [
    "sobel =  img\n",
    "sobelX = np.abs(cv2.Sobel(sobel, -1, 1, 0))\n",
    "sobelY = np.abs(cv2.Sobel(sobel, -1, 0 ,1))\n",
    "plotImage(cv2.addWeighted(sobelX,0.5,sobelY,0.5,0))"
   ]
  },
  {
   "cell_type": "code",
   "execution_count": 102,
   "metadata": {},
   "outputs": [
    {
     "data": {
      "text/plain": [
       "<matplotlib.image.AxesImage at 0x7f9d2b766c88>"
      ]
     },
     "execution_count": 102,
     "metadata": {},
     "output_type": "execute_result"
    }
   ],
   "source": [
    "plt.imshow(img>200,cmap='gray')"
   ]
  },
  {
   "cell_type": "code",
   "execution_count": 106,
   "metadata": {},
   "outputs": [],
   "source": [
    "mask = (img>200).astype(np.uint8)"
   ]
  },
  {
   "cell_type": "code",
   "execution_count": 116,
   "metadata": {},
   "outputs": [],
   "source": [
    "lines = cv2.HoughLines(mask,1,np.pi/180,160)"
   ]
  },
  {
   "cell_type": "code",
   "execution_count": 117,
   "metadata": {},
   "outputs": [],
   "source": [
    "lines1 = lines[:,0,:]"
   ]
  },
  {
   "cell_type": "code",
   "execution_count": 118,
   "metadata": {},
   "outputs": [],
   "source": [
    "result = mask.copy()\n",
    "for rho,theta in lines1[:]: \n",
    "    if  (theta < (np.pi/4. )) or (theta > (3.*np.pi/4.0)): #垂直直线\n",
    "                #该直线与第一行的交点\n",
    "        pt1 = (int(rho/np.cos(theta)),0)\n",
    "        #该直线与最后一行的焦点\n",
    "        pt2 = (int((rho-result.shape[0]*np.sin(theta))/np.cos(theta)),result.shape[0])\n",
    "        #绘制一条白线\n",
    "        cv2.line( result, pt1, pt2, (255))\n",
    "    else: #水平直线\n",
    "        # 该直线与第一列的交点\n",
    "        pt1 = (0,int(rho/np.sin(theta)))\n",
    "        #该直线与最后一列的交点\n",
    "        pt2 = (result.shape[1], int((rho-result.shape[1]*np.cos(theta))/np.sin(theta)))\n",
    "        #绘制一条直线\n",
    "        cv2.line(result, pt1, pt2, (255), 1)\n",
    "\n",
    "cv2.imshow('Result', result)"
   ]
  },
  {
   "cell_type": "code",
   "execution_count": null,
   "metadata": {},
   "outputs": [],
   "source": []
  },
  {
   "cell_type": "code",
   "execution_count": null,
   "metadata": {},
   "outputs": [],
   "source": []
  },
  {
   "cell_type": "code",
   "execution_count": null,
   "metadata": {},
   "outputs": [],
   "source": []
  },
  {
   "cell_type": "code",
   "execution_count": 93,
   "metadata": {},
   "outputs": [
    {
     "name": "stdout",
     "output_type": "stream",
     "text": [
      "using_max_min normal\n"
     ]
    },
    {
     "data": {
      "text/plain": [
       "array([[  0,   0,   0, ...,   0,   0,   0],\n",
       "       [  0,   0,   0, ...,   0,   0,   0],\n",
       "       [  0,   0,   0, ...,   0,   0,   0],\n",
       "       ...,\n",
       "       [  0,   0,   0, ...,   0, 255,   0],\n",
       "       [  0,   0,   0, ...,   0, 255,   0],\n",
       "       [  0,   0,   0, ...,   0, 255,   0]], dtype=uint8)"
      ]
     },
     "execution_count": 93,
     "metadata": {},
     "output_type": "execute_result"
    }
   ],
   "source": [
    "cv2.Canny(np.uint8(max_min_normal(gray_lap)),0,100)"
   ]
  },
  {
   "cell_type": "code",
   "execution_count": 95,
   "metadata": {},
   "outputs": [
    {
     "name": "stdout",
     "output_type": "stream",
     "text": [
      "using_max_min normal\n"
     ]
    },
    {
     "data": {
      "text/plain": [
       "<matplotlib.image.AxesImage at 0x7f9d39e37278>"
      ]
     },
     "execution_count": 95,
     "metadata": {},
     "output_type": "execute_result"
    }
   ],
   "source": [
    "plt.imshow(cv2.Canny(np.uint8(max_min_normal(gray_lap)),0,120))"
   ]
  },
  {
   "cell_type": "code",
   "execution_count": 51,
   "metadata": {},
   "outputs": [],
   "source": [
    "ret2,th2 = cv2.threshold(erodeImg,0,255,cv2.THRESH_BINARY+cv2.THRESH_OTSU)\n",
    "th3 = cv2.adaptiveThreshold(erodeImg,255,cv2.ADAPTIVE_THRESH_GAUSSIAN_C,cv2.THRESH_BINARY,11,2)"
   ]
  },
  {
   "cell_type": "code",
   "execution_count": 126,
   "metadata": {},
   "outputs": [],
   "source": [
    "filters = build_filters()\n",
    "plt.figure()\n",
    "plotf(filters)"
   ]
  },
  {
   "cell_type": "code",
   "execution_count": 127,
   "metadata": {},
   "outputs": [],
   "source": [
    "gkImg, imgs = process(img, filters)"
   ]
  },
  {
   "cell_type": "code",
   "execution_count": 128,
   "metadata": {},
   "outputs": [],
   "source": [
    "plotfimg(imgs)\n",
    "npimgs =[np.array(x) for x in imgs]\n",
    "ims = np.stack(npimgs, axis=2)"
   ]
  },
  {
   "cell_type": "code",
   "execution_count": 85,
   "metadata": {},
   "outputs": [
    {
     "data": {
      "text/plain": [
       "254"
      ]
     },
     "execution_count": 85,
     "metadata": {},
     "output_type": "execute_result"
    }
   ],
   "source": [
    "np.max(init)"
   ]
  },
  {
   "cell_type": "code",
   "execution_count": null,
   "metadata": {},
   "outputs": [],
   "source": []
  },
  {
   "cell_type": "code",
   "execution_count": 52,
   "metadata": {},
   "outputs": [
    {
     "data": {
      "text/plain": [
       "<matplotlib.image.AxesImage at 0x7f9d3990b128>"
      ]
     },
     "execution_count": 52,
     "metadata": {},
     "output_type": "execute_result"
    }
   ],
   "source": [
    "plt.imshow(th2,cmap='gray')"
   ]
  },
  {
   "cell_type": "code",
   "execution_count": 81,
   "metadata": {},
   "outputs": [
    {
     "data": {
      "text/plain": [
       "<matplotlib.image.AxesImage at 0x7f9d40174ef0>"
      ]
     },
     "execution_count": 81,
     "metadata": {},
     "output_type": "execute_result"
    }
   ],
   "source": [
    "imgCanny = cv2.Canny(erodeImg,0,100)\n",
    "plt.imshow(imgCanny)"
   ]
  },
  {
   "cell_type": "code",
   "execution_count": 43,
   "metadata": {},
   "outputs": [
    {
     "data": {
      "text/plain": [
       "<matplotlib.image.AxesImage at 0x7f9d393b3e80>"
      ]
     },
     "execution_count": 43,
     "metadata": {},
     "output_type": "execute_result"
    }
   ],
   "source": [
    "plt.imshow(img,cmap='gray')"
   ]
  },
  {
   "cell_type": "code",
   "execution_count": 82,
   "metadata": {},
   "outputs": [
    {
     "data": {
      "text/plain": [
       "<matplotlib.image.AxesImage at 0x7f9d2b982c18>"
      ]
     },
     "execution_count": 82,
     "metadata": {},
     "output_type": "execute_result"
    }
   ],
   "source": [
    "erodeKernel = np.ones((3,3), np.uint8)\n",
    "erodeImg = cv2.erode(img, erodeKernel, iterations=3)\n",
    "plt.imshow( cv2.medianBlur(erodeImg, 5), cmap='gray')"
   ]
  },
  {
   "cell_type": "code",
   "execution_count": 59,
   "metadata": {},
   "outputs": [
    {
     "data": {
      "text/plain": [
       "<matplotlib.image.AxesImage at 0x7f9d291c3cf8>"
      ]
     },
     "execution_count": 59,
     "metadata": {},
     "output_type": "execute_result"
    }
   ],
   "source": [
    "plt.imshow(erodeImg>200, cmap='gray')"
   ]
  },
  {
   "cell_type": "code",
   "execution_count": 60,
   "metadata": {},
   "outputs": [],
   "source": [
    "mask = (erodeImg>200).astype(np.int)"
   ]
  },
  {
   "cell_type": "code",
   "execution_count": 61,
   "metadata": {},
   "outputs": [
    {
     "data": {
      "text/plain": [
       "array([[0, 0, 0, ..., 0, 0, 0],\n",
       "       [0, 0, 0, ..., 0, 0, 0],\n",
       "       [0, 0, 0, ..., 0, 0, 0],\n",
       "       ...,\n",
       "       [0, 0, 0, ..., 0, 0, 0],\n",
       "       [0, 0, 0, ..., 0, 0, 0],\n",
       "       [0, 0, 0, ..., 1, 1, 1]])"
      ]
     },
     "execution_count": 61,
     "metadata": {},
     "output_type": "execute_result"
    }
   ],
   "source": [
    "mask"
   ]
  },
  {
   "cell_type": "code",
   "execution_count": 92,
   "metadata": {},
   "outputs": [
    {
     "data": {
      "text/plain": [
       "<matplotlib.image.AxesImage at 0x7fad3d701a90>"
      ]
     },
     "execution_count": 92,
     "metadata": {},
     "output_type": "execute_result"
    }
   ],
   "source": [
    "plt.imshow(img>220,cmap='gray')"
   ]
  },
  {
   "cell_type": "code",
   "execution_count": 12,
   "metadata": {},
   "outputs": [],
   "source": [
    "circles = cv2.HoughCircles(imgCanny,cv2.HOUGH_GRADIENT,1,20,\n",
    "                            param1=50,param2=30,minRadius=0,maxRadius=100)"
   ]
  },
  {
   "cell_type": "code",
   "execution_count": 13,
   "metadata": {},
   "outputs": [
    {
     "data": {
      "text/plain": [
       "array([[[316.5, 345.5,  66.3],\n",
       "        [297.5, 411.5,  69.7],\n",
       "        [225.5, 168.5,  40.8],\n",
       "        [313.5, 378.5,  56.1],\n",
       "        [226.5, 188.5,  31.9],\n",
       "        [255.5, 250.5,  46.3],\n",
       "        [331.5, 360.5,  46.3],\n",
       "        [256.5, 228.5,  29.3],\n",
       "        [179.5,  98.5,  27.5],\n",
       "        [331.5, 395.5,  46.6],\n",
       "        [208.5, 137.5,  23.5],\n",
       "        [324.5, 309.5,  30.8],\n",
       "        [424.5, 379.5,  56.2],\n",
       "        [231.5, 234.5,  20.7],\n",
       "        [ 71.5,  55.5,  12.2],\n",
       "        [182.5, 132.5,  12.2],\n",
       "        [142.5,  55.5,  18.5],\n",
       "        [208.5, 179.5,  20.5],\n",
       "        [250.5, 188.5,  15. ],\n",
       "        [287.5, 257.5,  20.7],\n",
       "        [280.5, 232.5,  14.1]]], dtype=float32)"
      ]
     },
     "execution_count": 13,
     "metadata": {},
     "output_type": "execute_result"
    }
   ],
   "source": [
    "circles"
   ]
  },
  {
   "cell_type": "code",
   "execution_count": 14,
   "metadata": {},
   "outputs": [],
   "source": [
    "cimg = cv2.cvtColor(img,cv2.COLOR_GRAY2BGR)\n",
    "circles = np.uint16(np.around(circles))\n",
    "for i in circles[0,:]:\n",
    "    # draw the outer circle\n",
    "    cv2.circle(cimg,(i[0],i[1]),i[2],(0,255,0),2)\n",
    "    # draw the center of the circle\n",
    "    cv2.circle(cimg,(i[0],i[1]),2,(0,0,255),3)"
   ]
  },
  {
   "cell_type": "code",
   "execution_count": 15,
   "metadata": {},
   "outputs": [],
   "source": [
    "cv2.imshow('detected circles',cimg)"
   ]
  },
  {
   "cell_type": "code",
   "execution_count": 124,
   "metadata": {},
   "outputs": [
    {
     "data": {
      "text/plain": [
       "<matplotlib.image.AxesImage at 0x7fc164079a20>"
      ]
     },
     "execution_count": 124,
     "metadata": {},
     "output_type": "execute_result"
    }
   ],
   "source": [
    "plt.imshow(img, cmap='gray')"
   ]
  },
  {
   "cell_type": "code",
   "execution_count": 165,
   "metadata": {},
   "outputs": [
    {
     "name": "stdout",
     "output_type": "stream",
     "text": [
      "(503, 438)\n",
      "show fig 2 first time\n"
     ]
    },
    {
     "name": "stderr",
     "output_type": "stream",
     "text": [
      "/home/zhenxingxu/miniconda3/envs/image/lib/python3.6/site-packages/ipykernel_launcher.py:56: MatplotlibDeprecationWarning: Adding an axes using the same arguments as a previous axes currently reuses the earlier instance.  In a future version, a new instance will always be created and returned.  Meanwhile, this warning can be suppressed, and the future behavior ensured, by passing a unique label to each axes instance.\n"
     ]
    }
   ],
   "source": [
    "#img = np.array(imread('gourd.bmp', True), dtype='float32')\n",
    "# im_t = img[:, :, 1]\n",
    "\n",
    "# parameters\n",
    "timestep = 1        # time step\n",
    "mu = 0.2/timestep   # coefficient of the distance regularization term R(phi)\n",
    "iter_inner = 4\n",
    "iter_outer = 35\n",
    "lmda = 12            # coefficient of the weighted length term L(phi)\n",
    "alfa = -9           # coefficient of the weighted area term A(phi)\n",
    "epsilon = 2.0       # parameter that specifies the width of the DiracDelta function\n",
    "\n",
    "#sigma = 0.0         # scale parameter in Gaussian kernel\n",
    "#img_smooth = filters.gaussian_filter(img, sigma)    # smooth image by Gaussian convolution\n",
    "[Iy, Ix] = np.gradient(img)\n",
    "f = np.square(Ix) + np.square(Iy)\n",
    "g = 1 / (1+f)    # edge indicator function.\n",
    "\n",
    "# initialize LSF as binary step function\n",
    "c0 = 2\n",
    "initialLSF = c0 * np.ones(img.shape)\n",
    "# generate the initial region R0 as two rectangles\n",
    "# initialLSF[24:35, 19:25] = -c0\n",
    "print(initialLSF.shape)\n",
    "\n",
    "initialLSF = init\n",
    "\n",
    "#initialLSF[30:40, 30:40] = -c0\n",
    "\n",
    "#initialLSF[93:96, 180:185] = -c0\n",
    "#initialLSF[130:140, 210:215] = -c0\n",
    "\n",
    "#initialLSF[130:140, 80:90] = -c0\n",
    "#initialLSF = mask\n",
    "#initialLSF = th2\n",
    "phi = initialLSF.copy()\n",
    "\n",
    "plt.ion()\n",
    "#fig1 = plt.figure(1)\n",
    "\n",
    "def show_fig1():\n",
    "    ax1 = fig1.add_subplot(111, projection='3d')\n",
    "    y, x = phi.shape\n",
    "    x = np.arange(0, x, 1)\n",
    "    y = np.arange(0, y, 1)\n",
    "    X, Y = np.meshgrid(x, y)\n",
    "    ax1.plot_surface(X, Y, -phi, rstride=2, cstride=2, color='r', linewidth=0, alpha=0.6, antialiased=True)\n",
    "    ax1.contour(X, Y, phi, 0, colors='g', linewidths=2)\n",
    "\n",
    "#show_fig1()\n",
    "fig2 = plt.figure(2)\n",
    "\n",
    "\n",
    "def show_fig2():\n",
    "    contours = measure.find_contours(phi, 0)\n",
    "    ax2 = fig2.add_subplot(111)\n",
    "    ax2.imshow(img, interpolation='nearest', cmap=plt.cm.gray)\n",
    "    for n, contour in enumerate(contours):\n",
    "        ax2.plot(contour[:, 1], contour[:, 0], linewidth=2)\n",
    "\n",
    "\n",
    "show_fig2()\n",
    "print('show fig 2 first time')"
   ]
  },
  {
   "cell_type": "code",
   "execution_count": 166,
   "metadata": {},
   "outputs": [
    {
     "name": "stdout",
     "output_type": "stream",
     "text": [
      "show fig 2 for 0 time\n",
      "show fig 2 for 2 time\n",
      "show fig 2 for 4 time\n",
      "show fig 2 for 6 time\n",
      "show fig 2 for 8 time\n",
      "show fig 2 for 10 time\n",
      "show fig 2 for 12 time\n",
      "show fig 2 for 14 time\n",
      "show fig 2 for 16 time\n",
      "show fig 2 for 18 time\n",
      "show fig 2 for 20 time\n",
      "show fig 2 for 22 time\n",
      "show fig 2 for 24 time\n",
      "show fig 2 for 26 time\n",
      "show fig 2 for 28 time\n",
      "show fig 2 for 30 time\n",
      "show fig 2 for 32 time\n",
      "show fig 2 for 34 time\n",
      "show final fig 2\n"
     ]
    }
   ],
   "source": [
    "potential = 2\n",
    "if potential == 1:\n",
    "    potentialFunction = 'single-well'  # use single well potential p1(s)=0.5*(s-1)^2, which is good for region-based model\n",
    "elif potential == 2:\n",
    "    potentialFunction = 'double-well'  # use double-well potential in Eq. (16), which is good for both edge and region based models\n",
    "else:\n",
    "    potentialFunction = 'double-well'  # default choice of potential function\n",
    "\n",
    "\n",
    "# start level set evolution\n",
    "for n in range(iter_outer):\n",
    "    phi = drlse.drlse_edge(phi, g, lmda, mu, alfa, epsilon, timestep, iter_inner, potentialFunction)\n",
    "    if np.mod(n, 2) == 0:\n",
    "        print('show fig 2 for %i time' % n)\n",
    "        fig2.clf()\n",
    "        show_fig2()\n",
    "        #fig1.clf()\n",
    "        #show_fig1()\n",
    "        plt.pause(0.2)\n",
    "\n",
    "# refine the zero level contour by further level set evolution with alfa=0\n",
    "alfa = 0\n",
    "iter_refine = 10\n",
    "phi = drlse.drlse_edge(phi, g, lmda, mu, alfa, epsilon, timestep, iter_refine, potentialFunction)\n",
    "\n",
    "finalLSF = phi.copy()\n",
    "print('show final fig 2')\n",
    "fig2.clf()\n",
    "show_fig2()\n",
    "#fig1.clf()\n",
    "#show_fig1()\n",
    "\n",
    "\n",
    "'''\n",
    "fig3 = plt.figure(3)\n",
    "ax3 = fig3.add_subplot(111, projection='3d')\n",
    "y, x = finalLSF.shape\n",
    "x = np.arange(0, x, 1)\n",
    "y = np.arange(0, y, 1)\n",
    "X, Y = np.meshgrid(x, y)\n",
    "ax3.plot_surface(X, Y, -finalLSF, rstride=2, cstride=2, color='r', linewidth=0, alpha=0.6, antialiased=True)\n",
    "ax3.contour(X, Y, finalLSF, 0, colors='g', linewidths=2)\n",
    "'''\n",
    "\n",
    "plt.pause(10)\n",
    "plt.show()"
   ]
  },
  {
   "cell_type": "code",
   "execution_count": null,
   "metadata": {},
   "outputs": [],
   "source": []
  },
  {
   "cell_type": "code",
   "execution_count": 125,
   "metadata": {},
   "outputs": [],
   "source": [
    "def build_filters():\n",
    "    filters = []\n",
    "    ksize = [7]\n",
    "    sigma = [9]\n",
    "    waveLen = [9,13,15] \n",
    "    #waveLen = [x for x in np.linspace(0,9,9)]\n",
    "    theta = [x for x in np.linspace(0,np.pi,9)]\n",
    "    #gamma = [7]\n",
    "    gamma = [5]\n",
    "    psi = [0]\n",
    "    #psi = [np.pi/2]\n",
    "    for ks in ksize:\n",
    "        for si in sigma:\n",
    "            for wavel in waveLen:\n",
    "                for ga in gamma:\n",
    "                    for p in psi:\n",
    "                        for th in theta:\n",
    "                            kern = cv2.getGaborKernel((ks,ks), si, th, wavel, ga, p)\n",
    "                            filters.append(kern)\n",
    "    return filters\n",
    "\n",
    "\n",
    "def process(img, filters):\n",
    "    accum = np.zeros_like(img)\n",
    "    imgs = []\n",
    "    for k in filters:\n",
    "        fimg = cv2.filter2D(img, -1, k)\n",
    "        imgs.append(fimg)\n",
    "        #accum = np.maximum(accum, fimg)\n",
    "        accum = np.maximum(accum, np.abs(fimg))\n",
    "        #accum += np.abs(fimg)\n",
    "    \n",
    "    #return accum/len(filters), imgs\n",
    "    return accum, imgs\n",
    "\n",
    "def plotImage(src):\n",
    "    plt.imshow(src, cmap='gray')\n",
    "def max_min(img):\n",
    "    ma = np.max(img)\n",
    "    mi = np.min(img)\n",
    "    print(\"Max:{}. Min:{}\".format(ma, mi))\n",
    "def fft(img):\n",
    "    imgfft = cv2.dft(img, flags=cv2.DFT_COMPLEX_OUTPUT)\n",
    "    powerfft = np.sum(np.power(imgfft,2),axis=2)\n",
    "    return np.sqrt(powerfft)\n",
    "def plotf(filters):\n",
    "    for i,f in enumerate(filters):\n",
    "        plt.subplot(3, 9, i+1)\n",
    "        plt.imshow(f, cmap='gray')\n",
    "\n",
    "def plotffft(filters):\n",
    "    plotf(map(fft, filters))\n",
    "def plotfimg(imgs):\n",
    "    for i in range(len(filters)):\n",
    "        plt.subplot(3, 9, i+1)\n",
    "        plt.imshow(imgs[i], cmap='gray')\n",
    "def plotHist(img):\n",
    "    plt.hist(img.flatten(), bins=500)\n",
    "    plt.show()"
   ]
  },
  {
   "cell_type": "code",
   "execution_count": null,
   "metadata": {},
   "outputs": [],
   "source": []
  }
 ],
 "metadata": {
  "kernelspec": {
   "display_name": "Python 3",
   "language": "python",
   "name": "python3"
  },
  "language_info": {
   "codemirror_mode": {
    "name": "ipython",
    "version": 3
   },
   "file_extension": ".py",
   "mimetype": "text/x-python",
   "name": "python",
   "nbconvert_exporter": "python",
   "pygments_lexer": "ipython3",
   "version": "3.6.10"
  }
 },
 "nbformat": 4,
 "nbformat_minor": 4
}
