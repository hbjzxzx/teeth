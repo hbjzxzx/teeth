{
 "cells": [
  {
   "cell_type": "code",
   "execution_count": 8,
   "metadata": {},
   "outputs": [],
   "source": [
    "from inception import Inception3\n",
    "from torchvision import models\n",
    "from pathlib import Path\n",
    "import torch.nn as nn\n",
    "import torch.nn.functional as F\n",
    "import torch\n",
    "from config import config\n",
    "from data import class2set\n",
    "from torch.utils.data import DataLoader\n",
    "from sklearn.metrics import confusion_matrix\n",
    "\n",
    "from sklearn.metrics import average_precision_score\n",
    "from sklearn.metrics import precision_recall_curve\n",
    "from sklearn.metrics import plot_precision_recall_curve, roc_curve\n",
    "import matplotlib.pyplot as plt\n",
    "\n",
    "import numpy as np\n",
    "import cv2, os\n",
    "from torch.utils.tensorboard import SummaryWriter"
   ]
  },
  {
   "cell_type": "code",
   "execution_count": 2,
   "metadata": {},
   "outputs": [
    {
     "name": "stdout",
     "output_type": "stream",
     "text": [
      "pLabel:297 nLabel:753 prate:0.283\n"
     ]
    }
   ],
   "source": [
    "cfg = config('configs/dataconfig.yaml')\n",
    "d = class2set(cfg, isTrain=False)\n",
    "dl = DataLoader(d,batch_size=16,num_workers=4,shuffle=False)\n",
    "device = torch.device('cuda')"
   ]
  },
  {
   "cell_type": "code",
   "execution_count": 3,
   "metadata": {},
   "outputs": [],
   "source": [
    "def getRestNet(weightPath):\n",
    "    restnet = models.resnet50(pretrained=False)\n",
    "    fc_features = restnet.fc.in_features\n",
    "    restnet.fc = nn.Linear(fc_features, 2)\n",
    "    restnetWeight = Path(weightPath)\n",
    "    restnet.load_state_dict(torch.load(str(restnetWeight)))\n",
    "    return restnet\n",
    "\n",
    "\n",
    "def evalNet(net, dl, device):\n",
    "    class_probs = []\n",
    "    class_preds = []\n",
    "    true_label = []\n",
    "    dimages = []\n",
    "    dlabels = []\n",
    "    with torch.no_grad():\n",
    "        net.to(device)\n",
    "        for data in dl:\n",
    "            inputs, labels = data[0].to(device), data[1].to(device)\n",
    "            dimages.append(inputs)\n",
    "            dlabels.append(labels)\n",
    "            output = net(inputs)\n",
    "            class_probs_batch = [F.softmax(el, dim=0) for el in output]\n",
    "            _, class_preds_batch = torch.max(output, 1)\n",
    "\n",
    "            class_probs.append(class_probs_batch)\n",
    "            class_preds.append(class_preds_batch)\n",
    "            true_label.append(labels)\n",
    "\n",
    "    test_probs = torch.cat([torch.stack(batch) for batch in class_probs])\n",
    "    test_preds = torch.cat(class_preds)\n",
    "    gt = torch.cat(true_label)\n",
    "    return {'pred':test_preds, \"prob\":test_probs, \"gt\":gt}\n",
    "\n",
    "\n",
    "def getPr(result):\n",
    "    y_test = result['gt'].cpu().numpy()\n",
    "    y_score = result['prob'][:,1].cpu().numpy()\n",
    "    average_precision = average_precision_score(y_test, y_score)\n",
    "    print('Average precision-recall score: {0:0.2f}'.format(\n",
    "          average_precision))\n",
    "    p,r,th = precision_recall_curve(y_test, y_score)\n",
    "    return p,r,th\n",
    "\n",
    "\n",
    "def getRoc(result):\n",
    "    y_test = result['gt'].cpu().numpy()\n",
    "    y_score = result['prob'][:,1].cpu().numpy()\n",
    "    \n",
    "    fpr, tpr, th = roc_curve(y_test, y_score)\n",
    "    return fpr, tpr, th\n",
    "\n",
    "\n",
    "def plotPr(res, colors, ls):\n",
    "    plt.figure(\"P-R Curve\")\n",
    "    #plt.hold(True)\n",
    "    plt.legend(loc='upper right')\n",
    "    for re,c, l in zip(res, colors, ls):\n",
    "        p,r,th,  = getPr(re)\n",
    "        plt.title('Precision/Recall Curve')\n",
    "        plt.xlabel('Recall')\n",
    "        plt.ylabel('Precision')\n",
    "        plt.plot(r, p, color=c)\n",
    "    plt.legend(ls)\n",
    "\n",
    "    \n",
    "def plotRoc(res, colors, ls):\n",
    "    plt.figure(\"ROC Curve\")\n",
    "    #plt.hold(True)\n",
    "    plt.legend(loc='upper right')\n",
    "    for re,c, l in zip(res, colors, ls):\n",
    "        fpr, tpr, th = getRoc(re)\n",
    "        plt.title('Roc Curve')\n",
    "        plt.xlabel('FPR')\n",
    "        plt.ylabel('TPR')\n",
    "        plt.plot(fpr, tpr, color=c)\n",
    "    plt.legend(ls)\n",
    "\n",
    "    "
   ]
  },
  {
   "cell_type": "code",
   "execution_count": 39,
   "metadata": {},
   "outputs": [],
   "source": [
    "balanceOnPreTrainOff = 'resnet/resnet50/balanceOnDataPreTrainOff/model_final.pth'\n",
    "restNet_ = getRestNet(balanceOnPreTrainOff)\n",
    "resultOnOff = evalNet(restNet_, dl, device)\n"
   ]
  },
  {
   "cell_type": "code",
   "execution_count": 40,
   "metadata": {},
   "outputs": [],
   "source": [
    "balanceOnPreTrainOn = 'resnet/resnet50/balanceOnDataPreTrainOn/model_final.pth'\n",
    "restNet_ = getRestNet(balanceOnPreTrainOn)\n",
    "resultOnOn = evalNet(restNet_, dl, device)\n"
   ]
  },
  {
   "cell_type": "code",
   "execution_count": 41,
   "metadata": {},
   "outputs": [],
   "source": [
    "balanceOffPreTrainOn = 'resnet/resnet50/balanceOffDataPreTrainOn/model_final.pth'\n",
    "restNet_ = getRestNet(balanceOffPreTrainOn)\n",
    "resultOffOn = evalNet(restNet_, dl, device)\n"
   ]
  },
  {
   "cell_type": "code",
   "execution_count": 103,
   "metadata": {},
   "outputs": [],
   "source": []
  },
  {
   "cell_type": "code",
   "execution_count": 107,
   "metadata": {},
   "outputs": [
    {
     "data": {
      "text/plain": [
       "(2, 2048)"
      ]
     },
     "execution_count": 107,
     "metadata": {},
     "output_type": "execute_result"
    }
   ],
   "source": [
    "ps[-2].data.cpu().numpy().shape"
   ]
  },
  {
   "cell_type": "code",
   "execution_count": 14,
   "metadata": {},
   "outputs": [],
   "source": [
    "balanceOffPreTrainOn = 'resnet/resnet50/balanceOffDataPreTrainOn/model_final.pth'\n",
    "restNet_ = getRestNet(balanceOffPreTrainOn)\n",
    "features_blob = []\n",
    "def hook_feature(model, infeature, outfeature):\n",
    "    features_blob.append(outfeature.data.cpu().numpy())"
   ]
  },
  {
   "cell_type": "code",
   "execution_count": 12,
   "metadata": {},
   "outputs": [],
   "source": [
    "def normCam(cam):\n",
    "    cam = cam - np.min(cam)\n",
    "    cam_image = cam / np.max(cam)\n",
    "    cam_image = np.uint8(255*cam_image)\n",
    "    return cv2.resize(cam_image, (512,512))\n",
    "\n",
    "\n",
    "def getCAM(Net, dl, savePath):\n",
    "    ps = list(restNet_.parameters())\n",
    "    weight = ps[-2].data.cpu().numpy()\n",
    "    \n",
    "    features_blob = []\n",
    "    def hook_feature(model, infeature, outfeature):\n",
    "        features_blob.append(outfeature.data.cpu().numpy())\n",
    "    Net._modules.get('layer4').register_forward_hook(hook_feature)\n",
    "    \n",
    "    imageId = 0\n",
    "    healPath = savePath/Path('health')\n",
    "    crackPath = savePath/Path('crack')\n",
    "    \n",
    "    os.makedirs(str(healPath))\n",
    "    os.makedirs(str(crackPath))\n",
    "    with torch.no_grad():\n",
    "        for data in dl:\n",
    "            features_blob.clear()\n",
    "            inputs, labels = data[0], data[1]\n",
    "\n",
    "            outputs = Net(inputs)\n",
    "            outputs = F.softmax(outputs, dim=1).cpu().numpy()\n",
    "            feature_conv =  features_blob[0]\n",
    "            bz, nc, h, w = feature_conv.shape\n",
    "            \n",
    "            for bid, (im, out) in enumerate(zip(inputs.cpu().numpy(), outputs)):\n",
    "                cam = weight.dot(feature_conv[bid].reshape(nc, h*w))\n",
    "                im = im[0]\n",
    "                healthyCam = cam[0].reshape(h, w)\n",
    "                crackCam = cam[1].reshape(h,w)\n",
    "\n",
    "                healthyCam = normCam(healthyCam)\n",
    "                crackCam = normCam(crackCam)\n",
    "                \n",
    "                \n",
    "                plt.imshow(im, cmap='gray')\n",
    "                plt.imshow(crackCam, alpha=0.5, cmap='hot')  #alpha设置透明度, cmap可以选择颜色\n",
    "                crackCamFile = Path(f'ImageCam{imageId}.jpg')\n",
    "                plt.savefig(str(crackPath/crackCamFile))\n",
    "                \n",
    "                \n",
    "                plt.imshow(im, cmap='gray')\n",
    "                plt.imshow(healthyCam, alpha=0.2, cmap='hot')  #alpha设置透明度, cmap可以选择颜色\n",
    "                healCamFile = Path(f'ImageCam{imageId}.jpg')\n",
    "                plt.savefig(str(healPath/healCamFile))\n",
    "                imageId += 1\n",
    "                "
   ]
  },
  {
   "cell_type": "code",
   "execution_count": 13,
   "metadata": {},
   "outputs": [
    {
     "ename": "FileExistsError",
     "evalue": "[Errno 17] File exists: 'RestNetCam/health'",
     "output_type": "error",
     "traceback": [
      "\u001b[0;31m---------------------------------------------------------------------------\u001b[0m",
      "\u001b[0;31mFileExistsError\u001b[0m                           Traceback (most recent call last)",
      "\u001b[0;32m<ipython-input-13-7e42f120bda0>\u001b[0m in \u001b[0;36m<module>\u001b[0;34m\u001b[0m\n\u001b[1;32m      2\u001b[0m \u001b[0mbalanceOffPreTrainOn\u001b[0m \u001b[0;34m=\u001b[0m \u001b[0;34m'resnet/resnet50/balanceOffDataPreTrainOn/model_final.pth'\u001b[0m\u001b[0;34m\u001b[0m\u001b[0;34m\u001b[0m\u001b[0m\n\u001b[1;32m      3\u001b[0m \u001b[0mrestNet_\u001b[0m \u001b[0;34m=\u001b[0m \u001b[0mgetRestNet\u001b[0m\u001b[0;34m(\u001b[0m\u001b[0mbalanceOffPreTrainOn\u001b[0m\u001b[0;34m)\u001b[0m\u001b[0;34m\u001b[0m\u001b[0;34m\u001b[0m\u001b[0m\n\u001b[0;32m----> 4\u001b[0;31m \u001b[0mgetCAM\u001b[0m\u001b[0;34m(\u001b[0m\u001b[0mrestNet_\u001b[0m\u001b[0;34m,\u001b[0m \u001b[0mdl\u001b[0m\u001b[0;34m,\u001b[0m \u001b[0msavePath\u001b[0m\u001b[0;34m)\u001b[0m\u001b[0;34m\u001b[0m\u001b[0;34m\u001b[0m\u001b[0m\n\u001b[0m",
      "\u001b[0;32m<ipython-input-12-75f5e5f56db7>\u001b[0m in \u001b[0;36mgetCAM\u001b[0;34m(Net, dl, savePath)\u001b[0m\n\u001b[1;32m     19\u001b[0m     \u001b[0mcrackPath\u001b[0m \u001b[0;34m=\u001b[0m \u001b[0msavePath\u001b[0m\u001b[0;34m/\u001b[0m\u001b[0mPath\u001b[0m\u001b[0;34m(\u001b[0m\u001b[0;34m'crack'\u001b[0m\u001b[0;34m)\u001b[0m\u001b[0;34m\u001b[0m\u001b[0;34m\u001b[0m\u001b[0m\n\u001b[1;32m     20\u001b[0m \u001b[0;34m\u001b[0m\u001b[0m\n\u001b[0;32m---> 21\u001b[0;31m     \u001b[0mos\u001b[0m\u001b[0;34m.\u001b[0m\u001b[0mmakedirs\u001b[0m\u001b[0;34m(\u001b[0m\u001b[0mstr\u001b[0m\u001b[0;34m(\u001b[0m\u001b[0mhealPath\u001b[0m\u001b[0;34m)\u001b[0m\u001b[0;34m)\u001b[0m\u001b[0;34m\u001b[0m\u001b[0;34m\u001b[0m\u001b[0m\n\u001b[0m\u001b[1;32m     22\u001b[0m     \u001b[0mos\u001b[0m\u001b[0;34m.\u001b[0m\u001b[0mmakedirs\u001b[0m\u001b[0;34m(\u001b[0m\u001b[0mstr\u001b[0m\u001b[0;34m(\u001b[0m\u001b[0mcrackPath\u001b[0m\u001b[0;34m)\u001b[0m\u001b[0;34m)\u001b[0m\u001b[0;34m\u001b[0m\u001b[0;34m\u001b[0m\u001b[0m\n\u001b[1;32m     23\u001b[0m     \u001b[0;32mwith\u001b[0m \u001b[0mtorch\u001b[0m\u001b[0;34m.\u001b[0m\u001b[0mno_grad\u001b[0m\u001b[0;34m(\u001b[0m\u001b[0;34m)\u001b[0m\u001b[0;34m:\u001b[0m\u001b[0;34m\u001b[0m\u001b[0;34m\u001b[0m\u001b[0m\n",
      "\u001b[0;32m~/miniconda3/envs/detect/lib/python3.6/os.py\u001b[0m in \u001b[0;36mmakedirs\u001b[0;34m(name, mode, exist_ok)\u001b[0m\n\u001b[1;32m    218\u001b[0m             \u001b[0;32mreturn\u001b[0m\u001b[0;34m\u001b[0m\u001b[0;34m\u001b[0m\u001b[0m\n\u001b[1;32m    219\u001b[0m     \u001b[0;32mtry\u001b[0m\u001b[0;34m:\u001b[0m\u001b[0;34m\u001b[0m\u001b[0;34m\u001b[0m\u001b[0m\n\u001b[0;32m--> 220\u001b[0;31m         \u001b[0mmkdir\u001b[0m\u001b[0;34m(\u001b[0m\u001b[0mname\u001b[0m\u001b[0;34m,\u001b[0m \u001b[0mmode\u001b[0m\u001b[0;34m)\u001b[0m\u001b[0;34m\u001b[0m\u001b[0;34m\u001b[0m\u001b[0m\n\u001b[0m\u001b[1;32m    221\u001b[0m     \u001b[0;32mexcept\u001b[0m \u001b[0mOSError\u001b[0m\u001b[0;34m:\u001b[0m\u001b[0;34m\u001b[0m\u001b[0;34m\u001b[0m\u001b[0m\n\u001b[1;32m    222\u001b[0m         \u001b[0;31m# Cannot rely on checking for EEXIST, since the operating system\u001b[0m\u001b[0;34m\u001b[0m\u001b[0;34m\u001b[0m\u001b[0;34m\u001b[0m\u001b[0m\n",
      "\u001b[0;31mFileExistsError\u001b[0m: [Errno 17] File exists: 'RestNetCam/health'"
     ]
    }
   ],
   "source": [
    "savePath = Path('RestNetCam')\n",
    "balanceOffPreTrainOn = 'resnet/resnet50/balanceOffDataPreTrainOn/model_final.pth'\n",
    "restNet_ = getRestNet(balanceOffPreTrainOn)\n",
    "getCAM(restNet_, dl, savePath)"
   ]
  },
  {
   "cell_type": "code",
   "execution_count": 15,
   "metadata": {},
   "outputs": [
    {
     "data": {
      "text/plain": [
       "<torch.utils.hooks.RemovableHandle at 0x7f36976a2240>"
      ]
     },
     "execution_count": 15,
     "metadata": {},
     "output_type": "execute_result"
    }
   ],
   "source": [
    "\n",
    "\n",
    "restNet_._modules.get('layer4').register_forward_hook(hook_feature)"
   ]
  },
  {
   "cell_type": "code",
   "execution_count": 16,
   "metadata": {},
   "outputs": [],
   "source": [
    "image = d[0][0]"
   ]
  },
  {
   "cell_type": "code",
   "execution_count": 17,
   "metadata": {},
   "outputs": [
    {
     "data": {
      "text/plain": [
       "array([[161., 160., 158., ...,   5.,   4.,   4.],\n",
       "       [161., 160., 158., ...,   6.,   5.,   4.],\n",
       "       [160., 159., 158., ...,   6.,   5.,   5.],\n",
       "       ...,\n",
       "       [ 81.,  81.,  81., ...,  69.,  69.,  70.],\n",
       "       [ 81.,  81.,  81., ...,  69.,  69.,  69.],\n",
       "       [ 81.,  81.,  81., ...,  69.,  69.,  69.]], dtype=float32)"
      ]
     },
     "execution_count": 17,
     "metadata": {},
     "output_type": "execute_result"
    }
   ],
   "source": [
    "image[0].numpy()"
   ]
  },
  {
   "cell_type": "code",
   "execution_count": 18,
   "metadata": {},
   "outputs": [],
   "source": [
    "inImage = image.unsqueeze(0)"
   ]
  },
  {
   "cell_type": "code",
   "execution_count": 19,
   "metadata": {},
   "outputs": [
    {
     "data": {
      "text/plain": [
       "torch.Size([1, 3, 512, 512])"
      ]
     },
     "execution_count": 19,
     "metadata": {},
     "output_type": "execute_result"
    }
   ],
   "source": [
    "inImage.shape"
   ]
  },
  {
   "cell_type": "code",
   "execution_count": 20,
   "metadata": {},
   "outputs": [],
   "source": [
    "out = restNet_(inImage)"
   ]
  },
  {
   "cell_type": "code",
   "execution_count": 21,
   "metadata": {},
   "outputs": [
    {
     "data": {
      "text/plain": [
       "tensor([[ 0.4927, -0.7832]], grad_fn=<AddmmBackward>)"
      ]
     },
     "execution_count": 21,
     "metadata": {},
     "output_type": "execute_result"
    }
   ],
   "source": [
    "out"
   ]
  },
  {
   "cell_type": "code",
   "execution_count": 22,
   "metadata": {},
   "outputs": [],
   "source": [
    "h = F.softmax(out, dim=1).data.squeeze()"
   ]
  },
  {
   "cell_type": "code",
   "execution_count": 23,
   "metadata": {},
   "outputs": [
    {
     "data": {
      "text/plain": [
       "tensor([0.7818, 0.2182])"
      ]
     },
     "execution_count": 23,
     "metadata": {},
     "output_type": "execute_result"
    }
   ],
   "source": [
    "h"
   ]
  },
  {
   "cell_type": "code",
   "execution_count": 100,
   "metadata": {},
   "outputs": [],
   "source": [
    "probs, idx = h.sort(0, True)"
   ]
  },
  {
   "cell_type": "code",
   "execution_count": 102,
   "metadata": {},
   "outputs": [
    {
     "data": {
      "text/plain": [
       "tensor([0, 1])"
      ]
     },
     "execution_count": 102,
     "metadata": {},
     "output_type": "execute_result"
    }
   ],
   "source": [
    "idx"
   ]
  },
  {
   "cell_type": "code",
   "execution_count": 24,
   "metadata": {},
   "outputs": [],
   "source": [
    "ps = list(restNet_.parameters())\n",
    "weight = ps[-2].data.cpu().numpy()"
   ]
  },
  {
   "cell_type": "code",
   "execution_count": 25,
   "metadata": {},
   "outputs": [],
   "source": [
    "feature_conv =  features_blob[0]\n",
    "bz, nc, h, w = feature_conv.shape"
   ]
  },
  {
   "cell_type": "code",
   "execution_count": 26,
   "metadata": {},
   "outputs": [],
   "source": [
    "cam = weight.dot(feature_conv.reshape(nc, h*w))"
   ]
  },
  {
   "cell_type": "code",
   "execution_count": 27,
   "metadata": {},
   "outputs": [],
   "source": [
    "healthyCam = cam[0].reshape(h, w)\n",
    "crackCam = cam[1].reshape(h,w)\n",
    "\n",
    "healthyCam = normCam(healthyCam)\n",
    "crackCam = normCam(crackCam)"
   ]
  },
  {
   "cell_type": "code",
   "execution_count": 32,
   "metadata": {},
   "outputs": [
    {
     "name": "stdout",
     "output_type": "stream",
     "text": [
      "Using matplotlib backend: Qt5Agg\n"
     ]
    }
   ],
   "source": [
    "%matplotlib"
   ]
  },
  {
   "cell_type": "code",
   "execution_count": 33,
   "metadata": {},
   "outputs": [
    {
     "data": {
      "text/plain": [
       "<matplotlib.image.AxesImage at 0x7f35f26db550>"
      ]
     },
     "execution_count": 33,
     "metadata": {},
     "output_type": "execute_result"
    }
   ],
   "source": [
    "plt.imshow(crackCam, cmap='hot')"
   ]
  },
  {
   "cell_type": "code",
   "execution_count": 34,
   "metadata": {},
   "outputs": [
    {
     "data": {
      "text/plain": [
       "<matplotlib.image.AxesImage at 0x7f35f2a5b9e8>"
      ]
     },
     "execution_count": 34,
     "metadata": {},
     "output_type": "execute_result"
    }
   ],
   "source": [
    "plt.imshow(image[0].numpy(), cmap='gray')\n",
    "plt.imshow(crackCam, alpha=0.5, cmap='rainbow')  #alpha设置透明度, cmap可以选择颜色"
   ]
  },
  {
   "cell_type": "code",
   "execution_count": 144,
   "metadata": {},
   "outputs": [
    {
     "data": {
      "text/plain": [
       "<matplotlib.image.AxesImage at 0x7f3f92af4e48>"
      ]
     },
     "execution_count": 144,
     "metadata": {},
     "output_type": "execute_result"
    }
   ],
   "source": [
    "plt.imshow(image[0].numpy(), cmap='gray')\n",
    "plt.imshow(healthyCam, alpha=0.2, cmap='hot')  #alpha设置透明度, cmap可以选择颜色"
   ]
  },
  {
   "cell_type": "code",
   "execution_count": null,
   "metadata": {},
   "outputs": [],
   "source": []
  },
  {
   "cell_type": "code",
   "execution_count": 131,
   "metadata": {},
   "outputs": [
    {
     "data": {
      "text/plain": [
       "<matplotlib.image.AxesImage at 0x7f3f98201940>"
      ]
     },
     "execution_count": 131,
     "metadata": {},
     "output_type": "execute_result"
    }
   ],
   "source": [
    "plt.figure('original Image')\n",
    "plt.imshow(image[0].numpy(), cmap='gray')"
   ]
  },
  {
   "cell_type": "code",
   "execution_count": 119,
   "metadata": {},
   "outputs": [],
   "source": []
  },
  {
   "cell_type": "code",
   "execution_count": 42,
   "metadata": {},
   "outputs": [],
   "source": [
    "re = []\n",
    "colors = ['r', 'g', 'b']\n",
    "labels = []"
   ]
  },
  {
   "cell_type": "markdown",
   "metadata": {},
   "source": [
    "# balance On  PreTrainOff"
   ]
  },
  {
   "cell_type": "code",
   "execution_count": 43,
   "metadata": {},
   "outputs": [
    {
     "name": "stdout",
     "output_type": "stream",
     "text": [
      "tensor([0, 0, 0, 0, 0, 0, 0, 0, 0, 0, 0, 0, 0, 0, 0, 0, 0, 0, 0, 0, 0, 0, 0, 0,\n",
      "        0, 0, 0, 0, 0, 0, 0, 0, 0, 0, 0, 0, 0, 0, 0, 0, 0, 0, 0, 0, 0, 0, 0, 0,\n",
      "        0, 0, 0, 0, 0, 0, 0, 0, 0, 0, 0, 0, 0, 0, 0, 0, 0, 0, 0, 0, 0, 0, 0, 0,\n",
      "        0, 0, 0, 0, 0, 0, 0, 0, 0, 0, 0, 0, 0, 0, 0, 0, 0, 0, 0, 0, 0, 0, 0, 0,\n",
      "        0, 0, 0, 0, 0, 0, 0, 0, 0, 0, 0, 0, 0, 0, 0, 0, 0, 0, 0, 0, 0, 0, 0, 0,\n",
      "        0, 0, 0, 0, 0, 0, 0, 0, 0, 0, 0, 0, 0, 0, 0, 0, 0, 0, 0, 0, 0, 0, 0, 0,\n",
      "        0, 0, 0, 0, 0, 0, 0, 0, 0, 0, 0, 0, 0, 0, 0, 0, 0, 0, 0, 0, 0, 0, 0, 0,\n",
      "        0, 0, 0, 0, 0, 0, 0, 0, 0, 0, 0, 0, 0, 0, 0, 0, 0, 0, 0, 0, 0, 0, 0, 0,\n",
      "        0, 0, 0, 0, 0, 0, 0, 0, 0, 0, 0, 0, 0, 0, 0, 0, 0, 0, 0, 0, 0, 0, 0, 0,\n",
      "        0, 0, 0, 0, 0, 0, 0, 0, 0, 0, 0, 0, 0, 0, 0, 0, 0, 0, 0, 0, 0, 0, 0, 0,\n",
      "        0, 0, 0, 0], device='cuda:0')\n",
      "tensor([0, 0, 0, 0, 0, 0, 0, 0, 0, 0, 0, 0, 0, 0, 0, 0, 0, 0, 0, 0, 0, 0, 0, 0,\n",
      "        0, 0, 0, 0, 0, 0, 0, 0, 0, 0, 0, 0, 0, 0, 0, 0, 0, 0, 0, 0, 0, 0, 0, 0,\n",
      "        0, 0, 0, 0, 0, 0, 1, 1, 1, 1, 1, 1, 1, 1, 1, 1, 1, 1, 1, 1, 1, 1, 1, 1,\n",
      "        1, 1, 1, 1, 1, 1, 1, 1, 1, 1, 1, 1, 1, 1, 1, 1, 1, 1, 1, 1, 1, 1, 1, 1,\n",
      "        1, 1, 1, 1, 1, 1, 1, 1, 1, 1, 1, 1, 1, 1, 1, 1, 1, 1, 1, 1, 1, 1, 1, 1,\n",
      "        1, 1, 0, 0, 0, 0, 0, 0, 0, 0, 0, 0, 0, 0, 0, 0, 0, 0, 0, 0, 0, 0, 0, 0,\n",
      "        0, 0, 0, 0, 0, 0, 0, 0, 0, 0, 0, 0, 0, 0, 0, 0, 0, 0, 0, 0, 0, 0, 0, 0,\n",
      "        0, 0, 0, 0, 0, 0, 0, 0, 0, 0, 0, 0, 0, 0, 0, 0, 0, 0, 0, 0, 0, 0, 0, 0,\n",
      "        0, 0, 0, 0, 0, 0, 0, 0, 0, 0, 0, 0, 0, 0, 0, 0, 0, 0, 0, 0, 0, 0, 0, 0,\n",
      "        0, 0, 0, 0, 0, 0, 0, 0, 0, 0, 0, 0, 0, 0, 0, 0, 0, 0, 0, 0, 0, 0, 0, 0,\n",
      "        0, 0, 0, 0], device='cuda:0')\n"
     ]
    }
   ],
   "source": [
    "print(resultOnOff['pred'])\n",
    "print(resultOnOff['gt'])\n",
    "re.append(resultOnOff)\n",
    "labels.append(f'B On Pre Off')"
   ]
  },
  {
   "cell_type": "markdown",
   "metadata": {},
   "source": [
    "# balance On PreTrainOn"
   ]
  },
  {
   "cell_type": "code",
   "execution_count": 44,
   "metadata": {},
   "outputs": [
    {
     "name": "stdout",
     "output_type": "stream",
     "text": [
      "tensor([0, 0, 0, 1, 0, 0, 0, 0, 0, 1, 1, 1, 1, 1, 1, 1, 1, 1, 1, 0, 1, 1, 1, 1,\n",
      "        1, 1, 1, 0, 0, 0, 0, 0, 0, 0, 0, 0, 1, 1, 0, 1, 0, 1, 1, 0, 1, 1, 1, 1,\n",
      "        1, 1, 1, 1, 1, 1, 1, 1, 1, 1, 0, 0, 0, 0, 0, 0, 0, 0, 0, 0, 0, 0, 0, 0,\n",
      "        0, 1, 1, 1, 1, 1, 1, 1, 1, 1, 1, 1, 1, 1, 1, 0, 0, 0, 0, 1, 1, 0, 0, 0,\n",
      "        0, 0, 0, 1, 1, 1, 1, 1, 1, 1, 1, 1, 1, 0, 1, 0, 0, 0, 1, 0, 0, 0, 0, 0,\n",
      "        0, 1, 1, 1, 1, 1, 1, 1, 0, 0, 1, 1, 1, 1, 1, 1, 0, 0, 0, 1, 1, 1, 1, 1,\n",
      "        1, 1, 0, 0, 1, 1, 1, 1, 1, 0, 0, 0, 1, 0, 1, 1, 1, 0, 1, 0, 0, 1, 0, 1,\n",
      "        1, 1, 0, 0, 0, 1, 1, 1, 1, 1, 1, 0, 0, 1, 1, 1, 0, 0, 0, 0, 0, 0, 0, 1,\n",
      "        1, 1, 1, 1, 1, 0, 0, 1, 1, 1, 0, 0, 1, 0, 0, 0, 1, 0, 1, 1, 1, 1, 0, 0,\n",
      "        1, 0, 1, 1, 0, 1, 0, 0, 0, 1, 1, 1, 0, 1, 1, 1, 1, 1, 0, 0, 1, 1, 1, 1,\n",
      "        1, 1, 0, 1], device='cuda:0')\n",
      "tensor([0, 0, 0, 0, 0, 0, 0, 0, 0, 0, 0, 0, 0, 0, 0, 0, 0, 0, 0, 0, 0, 0, 0, 0,\n",
      "        0, 0, 0, 0, 0, 0, 0, 0, 0, 0, 0, 0, 0, 0, 0, 0, 0, 0, 0, 0, 0, 0, 0, 0,\n",
      "        0, 0, 0, 0, 0, 0, 1, 1, 1, 1, 1, 1, 1, 1, 1, 1, 1, 1, 1, 1, 1, 1, 1, 1,\n",
      "        1, 1, 1, 1, 1, 1, 1, 1, 1, 1, 1, 1, 1, 1, 1, 1, 1, 1, 1, 1, 1, 1, 1, 1,\n",
      "        1, 1, 1, 1, 1, 1, 1, 1, 1, 1, 1, 1, 1, 1, 1, 1, 1, 1, 1, 1, 1, 1, 1, 1,\n",
      "        1, 1, 0, 0, 0, 0, 0, 0, 0, 0, 0, 0, 0, 0, 0, 0, 0, 0, 0, 0, 0, 0, 0, 0,\n",
      "        0, 0, 0, 0, 0, 0, 0, 0, 0, 0, 0, 0, 0, 0, 0, 0, 0, 0, 0, 0, 0, 0, 0, 0,\n",
      "        0, 0, 0, 0, 0, 0, 0, 0, 0, 0, 0, 0, 0, 0, 0, 0, 0, 0, 0, 0, 0, 0, 0, 0,\n",
      "        0, 0, 0, 0, 0, 0, 0, 0, 0, 0, 0, 0, 0, 0, 0, 0, 0, 0, 0, 0, 0, 0, 0, 0,\n",
      "        0, 0, 0, 0, 0, 0, 0, 0, 0, 0, 0, 0, 0, 0, 0, 0, 0, 0, 0, 0, 0, 0, 0, 0,\n",
      "        0, 0, 0, 0], device='cuda:0')\n"
     ]
    }
   ],
   "source": [
    "print(resultOnOn['pred'])\n",
    "print(resultOnOn['gt'])\n",
    "re.append(resultOnOn)\n",
    "labels.append(f'B On Pre On')"
   ]
  },
  {
   "cell_type": "markdown",
   "metadata": {},
   "source": [
    "# balance Off PreTrainOn"
   ]
  },
  {
   "cell_type": "code",
   "execution_count": 45,
   "metadata": {},
   "outputs": [
    {
     "name": "stdout",
     "output_type": "stream",
     "text": [
      "tensor([0, 0, 0, 0, 0, 0, 0, 0, 0, 0, 0, 0, 0, 0, 0, 0, 0, 0, 0, 0, 0, 0, 0, 0,\n",
      "        0, 0, 0, 0, 0, 0, 0, 0, 0, 0, 0, 0, 0, 0, 0, 0, 0, 0, 0, 0, 0, 0, 0, 0,\n",
      "        0, 0, 0, 0, 0, 0, 0, 0, 0, 0, 0, 0, 0, 0, 0, 0, 0, 0, 0, 0, 0, 0, 0, 0,\n",
      "        0, 0, 0, 0, 0, 0, 0, 0, 0, 0, 0, 0, 0, 0, 0, 0, 0, 0, 0, 0, 0, 0, 0, 0,\n",
      "        0, 0, 0, 0, 0, 0, 0, 0, 0, 0, 0, 0, 0, 0, 0, 0, 0, 0, 0, 0, 0, 0, 0, 0,\n",
      "        0, 0, 0, 0, 0, 0, 0, 0, 0, 0, 0, 0, 0, 0, 0, 0, 0, 0, 0, 0, 0, 0, 0, 0,\n",
      "        0, 0, 0, 0, 0, 0, 0, 0, 0, 0, 0, 0, 0, 0, 0, 0, 0, 0, 0, 0, 0, 0, 0, 0,\n",
      "        0, 0, 0, 0, 0, 0, 0, 0, 0, 0, 0, 0, 0, 0, 0, 0, 0, 0, 0, 0, 0, 0, 0, 0,\n",
      "        0, 0, 0, 0, 0, 0, 0, 0, 0, 0, 0, 0, 0, 0, 0, 0, 1, 0, 0, 0, 0, 0, 0, 0,\n",
      "        0, 0, 0, 0, 0, 0, 0, 0, 0, 0, 0, 0, 0, 0, 0, 0, 0, 0, 0, 0, 0, 0, 0, 0,\n",
      "        0, 0, 0, 0], device='cuda:0')\n",
      "tensor([0, 0, 0, 0, 0, 0, 0, 0, 0, 0, 0, 0, 0, 0, 0, 0, 0, 0, 0, 0, 0, 0, 0, 0,\n",
      "        0, 0, 0, 0, 0, 0, 0, 0, 0, 0, 0, 0, 0, 0, 0, 0, 0, 0, 0, 0, 0, 0, 0, 0,\n",
      "        0, 0, 0, 0, 0, 0, 1, 1, 1, 1, 1, 1, 1, 1, 1, 1, 1, 1, 1, 1, 1, 1, 1, 1,\n",
      "        1, 1, 1, 1, 1, 1, 1, 1, 1, 1, 1, 1, 1, 1, 1, 1, 1, 1, 1, 1, 1, 1, 1, 1,\n",
      "        1, 1, 1, 1, 1, 1, 1, 1, 1, 1, 1, 1, 1, 1, 1, 1, 1, 1, 1, 1, 1, 1, 1, 1,\n",
      "        1, 1, 0, 0, 0, 0, 0, 0, 0, 0, 0, 0, 0, 0, 0, 0, 0, 0, 0, 0, 0, 0, 0, 0,\n",
      "        0, 0, 0, 0, 0, 0, 0, 0, 0, 0, 0, 0, 0, 0, 0, 0, 0, 0, 0, 0, 0, 0, 0, 0,\n",
      "        0, 0, 0, 0, 0, 0, 0, 0, 0, 0, 0, 0, 0, 0, 0, 0, 0, 0, 0, 0, 0, 0, 0, 0,\n",
      "        0, 0, 0, 0, 0, 0, 0, 0, 0, 0, 0, 0, 0, 0, 0, 0, 0, 0, 0, 0, 0, 0, 0, 0,\n",
      "        0, 0, 0, 0, 0, 0, 0, 0, 0, 0, 0, 0, 0, 0, 0, 0, 0, 0, 0, 0, 0, 0, 0, 0,\n",
      "        0, 0, 0, 0], device='cuda:0')\n"
     ]
    }
   ],
   "source": [
    "print(resultOffOn['pred'])\n",
    "print(resultOffOn['gt'])\n",
    "re.append(resultOffOn)\n",
    "labels.append(f'B Off Pre On')"
   ]
  },
  {
   "cell_type": "code",
   "execution_count": 48,
   "metadata": {},
   "outputs": [
    {
     "name": "stderr",
     "output_type": "stream",
     "text": [
      "No handles with labels found to put in legend.\n"
     ]
    },
    {
     "name": "stdout",
     "output_type": "stream",
     "text": [
      "Average precision-recall score: 0.29\n",
      "Average precision-recall score: 0.26\n",
      "Average precision-recall score: 0.27\n"
     ]
    }
   ],
   "source": [
    "plotPr(re, colors, labels)"
   ]
  },
  {
   "cell_type": "code",
   "execution_count": 49,
   "metadata": {},
   "outputs": [
    {
     "name": "stderr",
     "output_type": "stream",
     "text": [
      "No handles with labels found to put in legend.\n"
     ]
    }
   ],
   "source": [
    "plotRoc(re, colors, labels)"
   ]
  },
  {
   "cell_type": "code",
   "execution_count": 49,
   "metadata": {},
   "outputs": [
    {
     "name": "stdout",
     "output_type": "stream",
     "text": [
      "Using matplotlib backend: Qt5Agg\n"
     ]
    }
   ],
   "source": [
    "%matplotlib"
   ]
  },
  {
   "cell_type": "code",
   "execution_count": 50,
   "metadata": {},
   "outputs": [
    {
     "name": "stdout",
     "output_type": "stream",
     "text": [
      "/home/zhenxing/code/tc\r\n"
     ]
    }
   ],
   "source": []
  },
  {
   "cell_type": "code",
   "execution_count": 4,
   "metadata": {},
   "outputs": [],
   "source": [
    "from AtNets import ATRestNet"
   ]
  },
  {
   "cell_type": "code",
   "execution_count": 5,
   "metadata": {},
   "outputs": [],
   "source": [
    "resumePath = Path('ATresnetRPN/ATresnet/balanceOffDataPreTrainOn100ePoch/model_final.pth')"
   ]
  },
  {
   "cell_type": "code",
   "execution_count": 7,
   "metadata": {},
   "outputs": [
    {
     "name": "stdout",
     "output_type": "stream",
     "text": [
      "resume model from ATresnetRPN/ATresnet/balanceOffDataPreTrainOn100ePoch/model_final.pth\n"
     ]
    }
   ],
   "source": [
    "atnet = ATRestNet(resumePath=resumePath)"
   ]
  },
  {
   "cell_type": "code",
   "execution_count": 109,
   "metadata": {},
   "outputs": [],
   "source": [
    "pred_At = []\n",
    "inputImage = []\n",
    "net = atnet\n",
    "with torch.no_grad():\n",
    "    net.to(device)\n",
    "    for data in dl:\n",
    "        inputs, labels = data[0].to(device), data[1].to(device)\n",
    "        outmask = net(inputs)\n",
    "        outmask = outmask.cpu()[:1]\n",
    "        outmask = torch.softmax(outmask, dim=1)\n",
    "        #outmask = torch.argmax(outmask, dim=1)\n",
    "        #outmask_ = torch.ge(outmask, 0.45)\n",
    "        #outmask_ = outmask_[:,1,:,:].repeat(1,3,1,1)\n",
    "        #outmask = outmask.unsqueeze(1).repeat(1,3,1,1)\n",
    "        \n",
    "        \n",
    "        pred_At.append(outmask)\n",
    "        \n",
    "        inputImage.append(inputs.cpu()[:1])\n"
   ]
  },
  {
   "cell_type": "code",
   "execution_count": 26,
   "metadata": {},
   "outputs": [],
   "source": [
    "writer = SummaryWriter(str('jn_tflogs'))\n",
    "writer.add_images('pred', pred_At, 0)\n",
    "writer.add_images('images', inputImage, 0)"
   ]
  },
  {
   "cell_type": "code",
   "execution_count": 71,
   "metadata": {},
   "outputs": [
    {
     "data": {
      "text/plain": [
       "torch.Size([66, 3, 512, 512])"
      ]
     },
     "execution_count": 71,
     "metadata": {},
     "output_type": "execute_result"
    }
   ],
   "source": [
    "inputImage.shape"
   ]
  },
  {
   "cell_type": "code",
   "execution_count": 72,
   "metadata": {},
   "outputs": [
    {
     "data": {
      "text/plain": [
       "torch.Size([66, 3, 512, 512])"
      ]
     },
     "execution_count": 72,
     "metadata": {},
     "output_type": "execute_result"
    }
   ],
   "source": [
    "inputImage.shape"
   ]
  },
  {
   "cell_type": "code",
   "execution_count": 110,
   "metadata": {},
   "outputs": [],
   "source": []
  },
  {
   "cell_type": "code",
   "execution_count": 150,
   "metadata": {},
   "outputs": [
    {
     "data": {
      "text/plain": [
       "<matplotlib.image.AxesImage at 0x7f5ab5c379b0>"
      ]
     },
     "execution_count": 150,
     "metadata": {},
     "output_type": "execute_result"
    },
    {
     "data": {
      "image/png": "[encoded data removed]",
      "text/plain": [
       "<Figure size 432x288 with 1 Axes>"
      ]
     },
     "metadata": {
      "needs_background": "light"
     },
     "output_type": "display_data"
    }
   ],
   "source": [
    "pred_At_ = torch.cat(pred_At)\n",
    "inputImage_ = torch.cat(inputImage)\n",
    "pred_At_ = torch.ge(pred_At_[:,1,:,:], 0.1)\n",
    "pred_At_ = pred_At_.unsqueeze(1).repeat(1,3,1,1)\n",
    "\n",
    "pred_show = pred_At_.permute(0,2,3,1)[:,:,:,0]\n",
    "inputIm_show = inputImage_.permute(0,2,3,1)[:,:,:,0]\n",
    "\n",
    "index = 1\n",
    "mask1 = cv2.resize(pred_show[index].numpy().astype(np.uint8),(512,512))\n",
    "oim = inputIm_show[index]\n",
    "plt.imshow(oim, cmap='gray')\n",
    "plt.imshow(mask1, cmap='hot', alpha=0.4)"
   ]
  },
  {
   "cell_type": "code",
   "execution_count": 111,
   "metadata": {},
   "outputs": [
    {
     "data": {
      "text/plain": [
       "tensor([[[[9.9999e-01, 1.0000e+00, 9.9989e-01,  ..., 1.2673e-01,\n",
       "           9.9448e-01, 9.9265e-01],\n",
       "          [1.0000e+00, 1.0000e+00, 9.9998e-01,  ..., 9.2495e-01,\n",
       "           9.9704e-01, 9.5720e-01],\n",
       "          [1.0000e+00, 1.0000e+00, 9.9964e-01,  ..., 9.9091e-01,\n",
       "           9.9113e-01, 9.2087e-01],\n",
       "          ...,\n",
       "          [9.9998e-01, 1.0000e+00, 9.9998e-01,  ..., 1.0000e+00,\n",
       "           1.0000e+00, 9.9996e-01],\n",
       "          [9.9913e-01, 9.9999e-01, 9.9999e-01,  ..., 1.0000e+00,\n",
       "           1.0000e+00, 9.9998e-01],\n",
       "          [9.8127e-01, 9.9979e-01, 9.9996e-01,  ..., 1.0000e+00,\n",
       "           1.0000e+00, 9.9936e-01]],\n",
       "\n",
       "         [[5.1663e-06, 1.9081e-06, 1.0597e-04,  ..., 8.7327e-01,\n",
       "           5.5187e-03, 7.3509e-03],\n",
       "          [3.8709e-07, 9.6025e-08, 1.8100e-05,  ..., 7.5046e-02,\n",
       "           2.9564e-03, 4.2800e-02],\n",
       "          [4.6874e-06, 4.7892e-06, 3.6022e-04,  ..., 9.0860e-03,\n",
       "           8.8714e-03, 7.9130e-02],\n",
       "          ...,\n",
       "          [2.1643e-05, 2.6974e-06, 2.4278e-05,  ..., 5.1274e-07,\n",
       "           2.4307e-07, 4.0391e-05],\n",
       "          [8.6671e-04, 8.1967e-06, 1.3376e-05,  ..., 4.0776e-08,\n",
       "           5.2690e-08, 1.6800e-05],\n",
       "          [1.8727e-02, 2.1104e-04, 4.0293e-05,  ..., 2.7579e-06,\n",
       "           4.6826e-06, 6.3509e-04]]],\n",
       "\n",
       "\n",
       "        [[[1.0000e+00, 1.0000e+00, 1.0000e+00,  ..., 9.1483e-01,\n",
       "           9.9973e-01, 9.9596e-01],\n",
       "          [1.0000e+00, 1.0000e+00, 1.0000e+00,  ..., 9.9860e-01,\n",
       "           9.9999e-01, 9.9912e-01],\n",
       "          [1.0000e+00, 1.0000e+00, 9.9992e-01,  ..., 9.9999e-01,\n",
       "           1.0000e+00, 9.9978e-01],\n",
       "          ...,\n",
       "          [9.9998e-01, 1.0000e+00, 1.0000e+00,  ..., 1.0000e+00,\n",
       "           1.0000e+00, 9.9971e-01],\n",
       "          [9.9977e-01, 1.0000e+00, 1.0000e+00,  ..., 1.0000e+00,\n",
       "           1.0000e+00, 9.9981e-01],\n",
       "          [9.9340e-01, 9.9999e-01, 1.0000e+00,  ..., 9.9995e-01,\n",
       "           9.9989e-01, 9.9629e-01]],\n",
       "\n",
       "         [[7.0865e-09, 7.9643e-10, 1.6939e-06,  ..., 8.5174e-02,\n",
       "           2.6504e-04, 4.0387e-03],\n",
       "          [9.9524e-11, 1.7342e-11, 6.0246e-07,  ..., 1.3996e-03,\n",
       "           1.3779e-05, 8.8034e-04],\n",
       "          [4.1905e-08, 2.8029e-08, 7.8771e-05,  ..., 5.1267e-06,\n",
       "           2.5695e-06, 2.1776e-04],\n",
       "          ...,\n",
       "          [2.4745e-05, 1.2316e-06, 3.5257e-06,  ..., 1.0395e-06,\n",
       "           1.2985e-06, 2.9464e-04],\n",
       "          [2.2855e-04, 3.6508e-07, 7.4787e-08,  ..., 5.4919e-07,\n",
       "           1.6441e-06, 1.9279e-04],\n",
       "          [6.5989e-03, 1.2042e-05, 6.7717e-07,  ..., 5.0651e-05,\n",
       "           1.1467e-04, 3.7054e-03]]],\n",
       "\n",
       "\n",
       "        [[[9.9985e-01, 9.9991e-01, 9.9982e-01,  ..., 9.9797e-01,\n",
       "           9.9994e-01, 9.9936e-01],\n",
       "          [9.9999e-01, 1.0000e+00, 9.9996e-01,  ..., 9.9985e-01,\n",
       "           9.9999e-01, 9.9922e-01],\n",
       "          [9.9998e-01, 9.9998e-01, 9.9964e-01,  ..., 9.9998e-01,\n",
       "           9.9996e-01, 9.9797e-01],\n",
       "          ...,\n",
       "          [9.9939e-01, 9.9964e-01, 9.9806e-01,  ..., 1.0000e+00,\n",
       "           1.0000e+00, 9.9987e-01],\n",
       "          [9.9870e-01, 9.9987e-01, 9.9933e-01,  ..., 1.0000e+00,\n",
       "           1.0000e+00, 9.9997e-01],\n",
       "          [9.8126e-01, 9.9943e-01, 9.9964e-01,  ..., 9.9995e-01,\n",
       "           9.9999e-01, 9.9957e-01]],\n",
       "\n",
       "         [[1.5449e-04, 8.9816e-05, 1.7513e-04,  ..., 2.0342e-03,\n",
       "           6.0209e-05, 6.3676e-04],\n",
       "          [9.0796e-06, 4.1485e-06, 3.8219e-05,  ..., 1.5127e-04,\n",
       "           1.1487e-05, 7.7764e-04],\n",
       "          [1.7713e-05, 2.0628e-05, 3.6468e-04,  ..., 2.4104e-05,\n",
       "           4.2725e-05, 2.0321e-03],\n",
       "          ...,\n",
       "          [6.1031e-04, 3.6163e-04, 1.9360e-03,  ..., 3.8875e-06,\n",
       "           1.7314e-06, 1.2574e-04],\n",
       "          [1.3016e-03, 1.2926e-04, 6.7121e-04,  ..., 1.3770e-06,\n",
       "           2.6119e-07, 2.6016e-05],\n",
       "          [1.8740e-02, 5.7197e-04, 3.5543e-04,  ..., 4.7502e-05,\n",
       "           7.3152e-06, 4.3212e-04]]],\n",
       "\n",
       "\n",
       "        ...,\n",
       "\n",
       "\n",
       "        [[[9.9947e-01, 9.9767e-01, 9.7180e-01,  ..., 1.0000e+00,\n",
       "           1.0000e+00, 9.9999e-01],\n",
       "          [1.0000e+00, 9.9999e-01, 9.9877e-01,  ..., 1.0000e+00,\n",
       "           1.0000e+00, 1.0000e+00],\n",
       "          [1.0000e+00, 1.0000e+00, 9.9988e-01,  ..., 1.0000e+00,\n",
       "           1.0000e+00, 9.9992e-01],\n",
       "          ...,\n",
       "          [9.8727e-01, 9.9835e-01, 9.9952e-01,  ..., 1.0000e+00,\n",
       "           1.0000e+00, 9.9995e-01],\n",
       "          [9.9355e-01, 9.9907e-01, 9.9932e-01,  ..., 1.0000e+00,\n",
       "           1.0000e+00, 9.9987e-01],\n",
       "          [9.7909e-01, 9.7978e-01, 9.7879e-01,  ..., 9.9883e-01,\n",
       "           9.9974e-01, 9.9728e-01]],\n",
       "\n",
       "         [[5.3113e-04, 2.3277e-03, 2.8203e-02,  ..., 1.9626e-06,\n",
       "           1.4968e-07, 7.5634e-06],\n",
       "          [3.2317e-06, 6.2792e-06, 1.2312e-03,  ..., 2.0835e-07,\n",
       "           3.2837e-08, 4.3698e-06],\n",
       "          [3.3835e-06, 1.5078e-06, 1.1508e-04,  ..., 3.4685e-06,\n",
       "           2.9481e-06, 7.6694e-05],\n",
       "          ...,\n",
       "          [1.2725e-02, 1.6519e-03, 4.7675e-04,  ..., 7.9643e-07,\n",
       "           3.0417e-07, 4.9079e-05],\n",
       "          [6.4485e-03, 9.2855e-04, 6.8380e-04,  ..., 4.7042e-06,\n",
       "           1.6158e-06, 1.2795e-04],\n",
       "          [2.0915e-02, 2.0219e-02, 2.1208e-02,  ..., 1.1737e-03,\n",
       "           2.5785e-04, 2.7208e-03]]],\n",
       "\n",
       "\n",
       "        [[[9.6508e-01, 9.8249e-01, 9.8954e-01,  ..., 1.0000e+00,\n",
       "           1.0000e+00, 1.0000e+00],\n",
       "          [9.8538e-01, 9.7901e-01, 9.4084e-01,  ..., 1.0000e+00,\n",
       "           1.0000e+00, 1.0000e+00],\n",
       "          [9.9285e-01, 9.6175e-01, 8.2810e-01,  ..., 1.0000e+00,\n",
       "           1.0000e+00, 1.0000e+00],\n",
       "          ...,\n",
       "          [1.0000e+00, 9.9999e-01, 9.9884e-01,  ..., 9.8425e-01,\n",
       "           9.9977e-01, 9.9876e-01],\n",
       "          [1.0000e+00, 1.0000e+00, 9.9998e-01,  ..., 9.9670e-01,\n",
       "           9.9992e-01, 9.9854e-01],\n",
       "          [9.9999e-01, 1.0000e+00, 9.9997e-01,  ..., 9.9878e-01,\n",
       "           9.9927e-01, 9.9331e-01]],\n",
       "\n",
       "         [[3.4921e-02, 1.7509e-02, 1.0457e-02,  ..., 9.6441e-08,\n",
       "           9.0941e-10, 3.3158e-08],\n",
       "          [1.4620e-02, 2.0994e-02, 5.9158e-02,  ..., 4.9652e-09,\n",
       "           2.8002e-11, 5.9260e-08],\n",
       "          [7.1504e-03, 3.8246e-02, 1.7190e-01,  ..., 3.9318e-09,\n",
       "           7.4587e-10, 1.1087e-06],\n",
       "          ...,\n",
       "          [2.6867e-06, 5.0350e-06, 1.1617e-03,  ..., 1.5753e-02,\n",
       "           2.3133e-04, 1.2362e-03],\n",
       "          [6.1277e-07, 1.0571e-07, 1.8374e-05,  ..., 3.3010e-03,\n",
       "           7.6393e-05, 1.4572e-03],\n",
       "          [8.2515e-06, 1.2917e-06, 3.1231e-05,  ..., 1.2198e-03,\n",
       "           7.3069e-04, 6.6850e-03]]],\n",
       "\n",
       "\n",
       "        [[[9.8136e-01, 9.9173e-01, 9.9732e-01,  ..., 9.9993e-01,\n",
       "           9.9998e-01, 9.9955e-01],\n",
       "          [9.8958e-01, 9.6460e-01, 9.7203e-01,  ..., 9.9999e-01,\n",
       "           1.0000e+00, 9.9973e-01],\n",
       "          [9.9658e-01, 9.8969e-01, 9.9036e-01,  ..., 9.9998e-01,\n",
       "           9.9996e-01, 9.9750e-01],\n",
       "          ...,\n",
       "          [9.9895e-01, 9.9963e-01, 9.9931e-01,  ..., 2.2050e-03,\n",
       "           9.0630e-01, 9.8788e-01],\n",
       "          [9.9928e-01, 9.9987e-01, 9.9986e-01,  ..., 8.9079e-02,\n",
       "           9.9375e-01, 9.9720e-01],\n",
       "          [9.9790e-01, 9.9921e-01, 9.9840e-01,  ..., 9.1606e-01,\n",
       "           9.9721e-01, 9.9132e-01]],\n",
       "\n",
       "         [[1.8641e-02, 8.2692e-03, 2.6826e-03,  ..., 7.4983e-05,\n",
       "           1.9521e-05, 4.5195e-04],\n",
       "          [1.0424e-02, 3.5400e-02, 2.7974e-02,  ..., 7.5263e-06,\n",
       "           1.7401e-06, 2.7488e-04],\n",
       "          [3.4157e-03, 1.0313e-02, 9.6408e-03,  ..., 1.8672e-05,\n",
       "           3.7152e-05, 2.4997e-03],\n",
       "          ...,\n",
       "          [1.0488e-03, 3.6558e-04, 6.8598e-04,  ..., 9.9779e-01,\n",
       "           9.3701e-02, 1.2119e-02],\n",
       "          [7.2048e-04, 1.2955e-04, 1.4352e-04,  ..., 9.1092e-01,\n",
       "           6.2479e-03, 2.8009e-03],\n",
       "          [2.1014e-03, 7.8565e-04, 1.5992e-03,  ..., 8.3939e-02,\n",
       "           2.7929e-03, 8.6833e-03]]]])"
      ]
     },
     "execution_count": 111,
     "metadata": {},
     "output_type": "execute_result"
    }
   ],
   "source": [
    "pred_At_"
   ]
  },
  {
   "cell_type": "code",
   "execution_count": 46,
   "metadata": {},
   "outputs": [
    {
     "data": {
      "text/plain": [
       "<matplotlib.image.AxesImage at 0x7f5b1e5250b8>"
      ]
     },
     "execution_count": 46,
     "metadata": {},
     "output_type": "execute_result"
    },
    {
     "data": {
      "image/png": "[encoded data removed]",
      "text/plain": [
       "<Figure size 432x288 with 1 Axes>"
      ]
     },
     "metadata": {
      "needs_background": "light"
     },
     "output_type": "display_data"
    }
   ],
   "source": []
  },
  {
   "cell_type": "code",
   "execution_count": 41,
   "metadata": {},
   "outputs": [
    {
     "data": {
      "text/plain": [
       "array([[0, 0, 0, ..., 0, 0, 0],\n",
       "       [0, 0, 0, ..., 0, 0, 0],\n",
       "       [0, 0, 0, ..., 0, 0, 0],\n",
       "       ...,\n",
       "       [0, 0, 0, ..., 0, 0, 0],\n",
       "       [0, 0, 0, ..., 0, 0, 0],\n",
       "       [0, 0, 0, ..., 0, 0, 0]], dtype=uint8)"
      ]
     },
     "execution_count": 41,
     "metadata": {},
     "output_type": "execute_result"
    }
   ],
   "source": [
    " "
   ]
  },
  {
   "cell_type": "code",
   "execution_count": null,
   "metadata": {},
   "outputs": [],
   "source": []
  }
 ],
 "metadata": {
  "kernelspec": {
   "display_name": "Python 3",
   "language": "python",
   "name": "python3"
  },
  "language_info": {
   "codemirror_mode": {
    "name": "ipython",
    "version": 3
   },
   "file_extension": ".py",
   "mimetype": "text/x-python",
   "name": "python",
   "nbconvert_exporter": "python",
   "pygments_lexer": "ipython3",
   "version": "3.6.10"
  }
 },
 "nbformat": 4,
 "nbformat_minor": 4
}
