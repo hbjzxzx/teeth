{
 "cells": [
  {
   "cell_type": "code",
   "execution_count": 5,
   "metadata": {},
   "outputs": [],
   "source": [
    "import numpy as np\n",
    "import matplotlib\n",
    "import numpy.ma as ma\n",
    "import vtk\n",
    "from sklearn.cluster import KMeans\n",
    "from sklearn.mixture import GaussianMixture\n",
    "from preprocess import dcm2npMatrix, histeq, max_min_normal, make_dcm_data_set\n",
    "import matplotlib.pyplot as plt\n",
    "import cv2\n",
    "import skimage.filters as filters\n",
    "import math\n",
    "import gbseg\n",
    "import imp\n",
    "\n",
    "from matplotlib.pyplot import imread\n",
    "import matplotlib.pyplot as plt\n",
    "from mpl_toolkits.mplot3d import Axes3D\n",
    "import scipy.ndimage.filters as filters\n",
    "from skimage import measure\n",
    "import lv_set.drlse_algo as drlse\n",
    "import numpy as np"
   ]
  },
  {
   "cell_type": "code",
   "execution_count": 6,
   "metadata": {},
   "outputs": [],
   "source": [
    "def filterArea(msk, down, up, emax):\n",
    "    tmpmsk = msk.copy()\n",
    "    retval, labels = cv2.connectedComponents(msk)\n",
    "    for l in range(retval):\n",
    "        x, y = np.where(labels == l)\n",
    "        if x.shape[0] < down or x.shape[0]>up:\n",
    "            tmpmsk[x, y] = 0\n",
    "        else:\n",
    "            xlen = np.max(x) - np.min(x)\n",
    "            ylen = np.max(y) - np.min(y)\n",
    "            e = xlen/ylen\n",
    "            e = e if e > 1 else 1/e\n",
    "            if e > emax:\n",
    "                tmpmsk[x, y] = 0\n",
    "            else:\n",
    "                tmpmsk[x,y] = 1\n",
    "    return tmpmsk"
   ]
  },
  {
   "cell_type": "code",
   "execution_count": 7,
   "metadata": {},
   "outputs": [
    {
     "name": "stdout",
     "output_type": "stream",
     "text": [
      "Using matplotlib backend: Qt5Agg\n"
     ]
    }
   ],
   "source": [
    "%matplotlib"
   ]
  },
  {
   "cell_type": "code",
   "execution_count": 8,
   "metadata": {},
   "outputs": [],
   "source": [
    "filename = \"./patient/fba9df0c1h503002{:0>3}.dcm\""
   ]
  },
  {
   "cell_type": "code",
   "execution_count": 9,
   "metadata": {},
   "outputs": [
    {
     "data": {
      "text/plain": [
       "'./patient/fba9df0c1h503002001.dcm'"
      ]
     },
     "execution_count": 9,
     "metadata": {},
     "output_type": "execute_result"
    }
   ],
   "source": [
    "filename.format(1)"
   ]
  },
  {
   "cell_type": "code",
   "execution_count": null,
   "metadata": {},
   "outputs": [],
   "source": []
  },
  {
   "cell_type": "code",
   "execution_count": 10,
   "metadata": {},
   "outputs": [
    {
     "ename": "NameError",
     "evalue": "name 'img' is not defined",
     "output_type": "error",
     "traceback": [
      "\u001b[0;31m---------------------------------------------------------------------------\u001b[0m",
      "\u001b[0;31mNameError\u001b[0m                                 Traceback (most recent call last)",
      "\u001b[0;32m<ipython-input-10-32ad6cb7aa56>\u001b[0m in \u001b[0;36m<module>\u001b[0;34m\u001b[0m\n\u001b[0;32m----> 1\u001b[0;31m \u001b[0mimg\u001b[0m\u001b[0;34m.\u001b[0m\u001b[0mshape\u001b[0m\u001b[0;34m\u001b[0m\u001b[0;34m\u001b[0m\u001b[0m\n\u001b[0m",
      "\u001b[0;31mNameError\u001b[0m: name 'img' is not defined"
     ]
    }
   ],
   "source": [
    "img.shape"
   ]
  },
  {
   "cell_type": "code",
   "execution_count": 40,
   "metadata": {},
   "outputs": [
    {
     "name": "stdout",
     "output_type": "stream",
     "text": [
      "using_max_min normal\n"
     ]
    },
    {
     "data": {
      "text/plain": [
       "<matplotlib.image.AxesImage at 0x7f9719189240>"
      ]
     },
     "execution_count": 40,
     "metadata": {},
     "output_type": "execute_result"
    }
   ],
   "source": [
    "dcmPath = \"./dcms/test/00000800.dc\n",
    "m\"\n",
    "img = dcm2npMatrix(dcmPath)\n",
    "plt.imshow(np.uint8((max_min_normal(img))),cmap='gray')"
   ]
  },
  {
   "cell_type": "code",
   "execution_count": 33,
   "metadata": {},
   "outputs": [],
   "source": [
    "dcmPath = \"./dcms/test/00000820.dcm\"\n",
    "img = dcm2npMatrix(dcmPath)"
   ]
  },
  {
   "cell_type": "code",
   "execution_count": 72,
   "metadata": {},
   "outputs": [],
   "source": [
    "dcmPath = \"./dcms/test/00000261.dcm\"\n",
    "img2 = dcm2npMatrix(dcmPath)"
   ]
  },
  {
   "cell_type": "code",
   "execution_count": 73,
   "metadata": {},
   "outputs": [
    {
     "data": {
      "text/plain": [
       "<matplotlib.image.AxesImage at 0x7fbdf2061d68>"
      ]
     },
     "execution_count": 73,
     "metadata": {},
     "output_type": "execute_result"
    }
   ],
   "source": [
    "plt.imshow(img2-img,cmap='gray')"
   ]
  },
  {
   "cell_type": "code",
   "execution_count": 117,
   "metadata": {},
   "outputs": [
    {
     "name": "stdout",
     "output_type": "stream",
     "text": [
      "using_max_min normal\n"
     ]
    },
    {
     "data": {
      "text/plain": [
       "<matplotlib.image.AxesImage at 0x7fbdf1b03a90>"
      ]
     },
     "execution_count": 117,
     "metadata": {},
     "output_type": "execute_result"
    }
   ],
   "source": [
    "normalX = np.uint8((max_min_normal(img)))\n",
    "plt.figure(\"raw\")\n",
    "plt.imshow(normalX,cmap='gray')\n",
    "tmp = cv2.GaussianBlur(normalX,(5,5),0).astype('uint8')\n",
    "tmp = cv2.medianBlur(tmp, 5)\n",
    "img = tmp\n",
    "plt.figure(\"filter\")\n",
    "plt.imshow(img,cmap='gray')"
   ]
  },
  {
   "cell_type": "code",
   "execution_count": 101,
   "metadata": {},
   "outputs": [],
   "source": [
    "gray_lap = cv2.Laplacian(img,cv2.CV_16S,ksize = 3)\n",
    "erodeKernel = np.ones((3,3), np.uint8)\n",
    "\n",
    "#normalX = dilate = cv2.dilate(img, erodeKernel, iterations=2)\n",
    "plt.imshow(normalX>205,cmap='gray')\n",
    "msk = (normalX>200).astype(np.uint8)\n",
    "filtermsk = filterArea(msk, 70, 2500, 1.6)\n",
    "\n",
    "\n",
    "dilate = cv2.dilate(filtermsk, erodeKernel, iterations=2)\n",
    "erodeImg = cv2.erode(dilate, erodeKernel, iterations=4)\n",
    "plt.imshow( erodeImg, cmap='gray')\n",
    "init =  erodeImg.copy()\n",
    "init = init.astype(np.int)\n",
    "init[np.where(init==1)] = -2\n",
    "init[np.where(init==0)] = 2"
   ]
  },
  {
   "cell_type": "code",
   "execution_count": 102,
   "metadata": {},
   "outputs": [
    {
     "data": {
      "text/plain": [
       "<matplotlib.image.AxesImage at 0x7fbdf014f208>"
      ]
     },
     "execution_count": 102,
     "metadata": {},
     "output_type": "execute_result"
    }
   ],
   "source": [
    "normalX = dilate = cv2.erode(img, erodeKernel, iterations=4)\n",
    "plt.imshow(normalX, cmap='gray')"
   ]
  },
  {
   "cell_type": "code",
   "execution_count": 86,
   "metadata": {},
   "outputs": [
    {
     "data": {
      "text/plain": [
       "<matplotlib.image.AxesImage at 0x7fbdf1e4a438>"
      ]
     },
     "execution_count": 86,
     "metadata": {},
     "output_type": "execute_result"
    }
   ],
   "source": [
    "plt.imshow(msk, cmap='gray')"
   ]
  },
  {
   "cell_type": "code",
   "execution_count": 103,
   "metadata": {},
   "outputs": [
    {
     "name": "stdout",
     "output_type": "stream",
     "text": [
      "(503, 438)\n",
      "show fig 2 first time\n"
     ]
    },
    {
     "name": "stderr",
     "output_type": "stream",
     "text": [
      "/home/zhenxingxu/miniconda3/envs/image/lib/python3.6/site-packages/ipykernel_launcher.py:57: MatplotlibDeprecationWarning: Adding an axes using the same arguments as a previous axes currently reuses the earlier instance.  In a future version, a new instance will always be created and returned.  Meanwhile, this warning can be suppressed, and the future behavior ensured, by passing a unique label to each axes instance.\n"
     ]
    }
   ],
   "source": [
    "#img = np.array(imread('gourd.bmp', True), dtype='float32')\n",
    "# im_t = img[:, :, 1]\n",
    "\n",
    "# parameters\n",
    "timestep = 1        # time step\n",
    "mu = 0.2/timestep   # coefficient of the distance regularization term R(phi)\n",
    "iter_inner = 4\n",
    "iter_outer = 40\n",
    "lmda = 12            # coefficient of the weighted length term L(phi)\n",
    "alfa = -9           # coefficient of the weighted area term A(phi)\n",
    "epsilon = 2.0       # parameter that specifies the width of the DiracDelta function\n",
    "\n",
    "#sigma = 0.0         # scale parameter in Gaussian kernel\n",
    "#img_smooth = filters.gaussian_filter(img, sigma)    # smooth image by Gaussian convolution\n",
    "[Iy, Ix] = np.gradient(img)\n",
    "f = np.square(Ix) + np.square(Iy)\n",
    "#gray_lap = cv2.Laplacian(img,cv2.CV_16S,ksize = 3)\n",
    "g = 1 / (1+np.power(f,1.2))    # edge indicator function.\n",
    "\n",
    "# initialize LSF as binary step function\n",
    "c0 = 2\n",
    "initialLSF = c0 * np.ones(img.shape)\n",
    "# generate the initial region R0 as two rectangles\n",
    "# initialLSF[24:35, 19:25] = -c0\n",
    "print(initialLSF.shape)\n",
    "\n",
    "initialLSF = init\n",
    "\n",
    "#initialLSF[30:40, 30:40] = -c0\n",
    "\n",
    "#initialLSF[93:96, 180:185] = -c0\n",
    "#initialLSF[130:140, 210:215] = -c0\n",
    "\n",
    "#initialLSF[130:140, 80:90] = -c0\n",
    "#initialLSF = mask\n",
    "#initialLSF = th2\n",
    "phi = initialLSF.copy()\n",
    "\n",
    "plt.ion()\n",
    "#fig1 = plt.figure(1)\n",
    "\n",
    "def show_fig1():\n",
    "    ax1 = fig1.add_subplot(111, projection='3d')\n",
    "    y, x = phi.shape\n",
    "    x = np.arange(0, x, 1)\n",
    "    y = np.arange(0, y, 1)\n",
    "    X, Y = np.meshgrid(x, y)\n",
    "    ax1.plot_surface(X, Y, -phi, rstride=2, cstride=2, color='r', linewidth=0, alpha=0.6, antialiased=True)\n",
    "    ax1.contour(X, Y, phi, 0, colors='g', linewidths=2)\n",
    "\n",
    "#show_fig1()\n",
    "fig2 = plt.figure(2)\n",
    "\n",
    "\n",
    "def show_fig2():\n",
    "    contours = measure.find_contours(phi, 0)\n",
    "    ax2 = fig2.add_subplot(111)\n",
    "    ax2.imshow(img, interpolation='nearest', cmap=plt.cm.gray)\n",
    "    for n, contour in enumerate(contours):\n",
    "        ax2.plot(contour[:, 1], contour[:, 0], linewidth=2)\n",
    "\n",
    "\n",
    "show_fig2()\n",
    "print('show fig 2 first time')"
   ]
  },
  {
   "cell_type": "code",
   "execution_count": 104,
   "metadata": {},
   "outputs": [
    {
     "name": "stdout",
     "output_type": "stream",
     "text": [
      "show fig 2 for 0 time\n",
      "show fig 2 for 2 time\n",
      "show fig 2 for 4 time\n",
      "show fig 2 for 6 time\n",
      "show fig 2 for 8 time\n",
      "show fig 2 for 10 time\n",
      "show fig 2 for 12 time\n",
      "show fig 2 for 14 time\n",
      "show fig 2 for 16 time\n",
      "show fig 2 for 18 time\n",
      "show fig 2 for 20 time\n",
      "show fig 2 for 22 time\n",
      "show fig 2 for 24 time\n",
      "show fig 2 for 26 time\n",
      "show fig 2 for 28 time\n",
      "show fig 2 for 30 time\n",
      "show fig 2 for 32 time\n",
      "show fig 2 for 34 time\n",
      "show fig 2 for 36 time\n",
      "show fig 2 for 38 time\n",
      "show final fig 2\n"
     ]
    }
   ],
   "source": [
    "potential = 2\n",
    "if potential == 1:\n",
    "    potentialFunction = 'single-well'  # use single well potential p1(s)=0.5*(s-1)^2, which is good for region-based model\n",
    "elif potential == 2:\n",
    "    potentialFunction = 'double-well'  # use double-well potential in Eq. (16), which is good for both edge and region based models\n",
    "else:\n",
    "    potentialFunction = 'double-well'  # default choice of potential function\n",
    "\n",
    "\n",
    "# start level set evolution\n",
    "for n in range(iter_outer):\n",
    "    phi = drlse.drlse_edge(phi, g, lmda, mu, alfa, epsilon, timestep, iter_inner, potentialFunction)\n",
    "    if np.mod(n, 2) == 0:\n",
    "        print('show fig 2 for %i time' % n)\n",
    "        fig2.clf()\n",
    "        show_fig2()\n",
    "        #fig1.clf()\n",
    "        #show_fig1()\n",
    "        plt.pause(0.2)\n",
    "\n",
    "# refine the zero level contour by further level set evolution with alfa=0\n",
    "alfa = 0\n",
    "iter_refine = 10\n",
    "phi = drlse.drlse_edge(phi, g, lmda, mu, alfa, epsilon, timestep, iter_refine, potentialFunction)\n",
    "\n",
    "finalLSF = phi.copy()\n",
    "print('show final fig 2')\n",
    "fig2.clf()\n",
    "show_fig2()\n",
    "#fig1.clf()\n",
    "#show_fig1()\n",
    "\n",
    "\n",
    "'''\n",
    "fig3 = plt.figure(3)\n",
    "ax3 = fig3.add_subplot(111, projection='3d')\n",
    "y, x = finalLSF.shape\n",
    "x = np.arange(0, x, 1)\n",
    "y = np.arange(0, y, 1)\n",
    "X, Y = np.meshgrid(x, y)\n",
    "ax3.plot_surface(X, Y, -finalLSF, rstride=2, cstride=2, color='r', linewidth=0, alpha=0.6, antialiased=True)\n",
    "ax3.contour(X, Y, finalLSF, 0, colors='g', linewidths=2)\n",
    "'''\n",
    "\n",
    "plt.pause(10)\n",
    "plt.show()"
   ]
  },
  {
   "cell_type": "code",
   "execution_count": 34,
   "metadata": {},
   "outputs": [
    {
     "data": {
      "text/plain": [
       "<matplotlib.image.AxesImage at 0x7fbdf3180e80>"
      ]
     },
     "execution_count": 34,
     "metadata": {},
     "output_type": "execute_result"
    }
   ],
   "source": [
    "plt.imshow(img,cmap='gray')"
   ]
  },
  {
   "cell_type": "code",
   "execution_count": null,
   "metadata": {},
   "outputs": [],
   "source": []
  }
 ],
 "metadata": {
  "kernelspec": {
   "display_name": "Python 3",
   "language": "python",
   "name": "python3"
  },
  "language_info": {
   "codemirror_mode": {
    "name": "ipython",
    "version": 3
   },
   "file_extension": ".py",
   "mimetype": "text/x-python",
   "name": "python",
   "nbconvert_exporter": "python",
   "pygments_lexer": "ipython3",
   "version": "3.6.10"
  }
 },
 "nbformat": 4,
 "nbformat_minor": 4
}
